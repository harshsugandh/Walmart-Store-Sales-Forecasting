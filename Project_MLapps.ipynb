{
  "nbformat": 4,
  "nbformat_minor": 0,
  "metadata": {
    "colab": {
      "name": "Project_MLapps.ipynb",
      "provenance": [],
      "collapsed_sections": [],
      "authorship_tag": "ABX9TyNwR87cyyCx1q62q9kw5Pz1",
      "include_colab_link": true
    },
    "kernelspec": {
      "name": "python3",
      "display_name": "Python 3"
    }
  },
  "cells": [
    {
      "cell_type": "markdown",
      "metadata": {
        "id": "view-in-github",
        "colab_type": "text"
      },
      "source": [
        "<a href=\"https://colab.research.google.com/github/harshsugandh/Walmart-Store-Sales-Forecasting/blob/master/Project_MLapps.ipynb\" target=\"_parent\"><img src=\"https://colab.research.google.com/assets/colab-badge.svg\" alt=\"Open In Colab\"/></a>"
      ]
    },
    {
      "cell_type": "markdown",
      "metadata": {
        "id": "OtSjAcUhp7Zm"
      },
      "source": [
        "###Getting CSV files and importing the required packages"
      ]
    },
    {
      "cell_type": "code",
      "metadata": {
        "id": "ZQmz9Ahhipt3",
        "colab": {
          "base_uri": "https://localhost:8080/",
          "height": 765
        },
        "outputId": "7e984da6-4f48-40b0-edaf-f8dc08ccd544"
      },
      "source": [
        "#getting csv files\n",
        "!wget https://raw.githubusercontent.com/harshsugandh/Walmart-Store-Sales-Forecasting/master/features.csv\n",
        "!wget https://raw.githubusercontent.com/harshsugandh/Walmart-Store-Sales-Forecasting/master/stores.csv\n",
        "!wget https://raw.githubusercontent.com/harshsugandh/Walmart-Store-Sales-Forecasting/master/test.csv\n",
        "!wget https://raw.githubusercontent.com/harshsugandh/Walmart-Store-Sales-Forecasting/master/train.csv"
      ],
      "execution_count": null,
      "outputs": [
        {
          "output_type": "stream",
          "text": [
            "--2020-09-15 20:22:25--  https://raw.githubusercontent.com/harshsugandh/Walmart-Store-Sales-Forecasting/master/features.csv\n",
            "Resolving raw.githubusercontent.com (raw.githubusercontent.com)... 151.101.0.133, 151.101.64.133, 151.101.128.133, ...\n",
            "Connecting to raw.githubusercontent.com (raw.githubusercontent.com)|151.101.0.133|:443... connected.\n",
            "HTTP request sent, awaiting response... 200 OK\n",
            "Length: 592289 (578K) [text/plain]\n",
            "Saving to: ‘features.csv.3’\n",
            "\n",
            "features.csv.3      100%[===================>] 578.41K  --.-KB/s    in 0.03s   \n",
            "\n",
            "2020-09-15 20:22:25 (17.5 MB/s) - ‘features.csv.3’ saved [592289/592289]\n",
            "\n",
            "--2020-09-15 20:22:26--  https://raw.githubusercontent.com/harshsugandh/Walmart-Store-Sales-Forecasting/master/stores.csv\n",
            "Resolving raw.githubusercontent.com (raw.githubusercontent.com)... 151.101.0.133, 151.101.64.133, 151.101.128.133, ...\n",
            "Connecting to raw.githubusercontent.com (raw.githubusercontent.com)|151.101.0.133|:443... connected.\n",
            "HTTP request sent, awaiting response... 200 OK\n",
            "Length: 532 [text/plain]\n",
            "Saving to: ‘stores.csv.3’\n",
            "\n",
            "stores.csv.3        100%[===================>]     532  --.-KB/s    in 0s      \n",
            "\n",
            "2020-09-15 20:22:26 (34.9 MB/s) - ‘stores.csv.3’ saved [532/532]\n",
            "\n",
            "--2020-09-15 20:22:26--  https://raw.githubusercontent.com/harshsugandh/Walmart-Store-Sales-Forecasting/master/test.csv\n",
            "Resolving raw.githubusercontent.com (raw.githubusercontent.com)... 151.101.0.133, 151.101.64.133, 151.101.128.133, ...\n",
            "Connecting to raw.githubusercontent.com (raw.githubusercontent.com)|151.101.0.133|:443... connected.\n",
            "HTTP request sent, awaiting response... 200 OK\n",
            "Length: 2598077 (2.5M) [text/plain]\n",
            "Saving to: ‘test.csv.3’\n",
            "\n",
            "test.csv.3          100%[===================>]   2.48M  --.-KB/s    in 0.08s   \n",
            "\n",
            "2020-09-15 20:22:26 (29.9 MB/s) - ‘test.csv.3’ saved [2598077/2598077]\n",
            "\n",
            "--2020-09-15 20:22:26--  https://raw.githubusercontent.com/harshsugandh/Walmart-Store-Sales-Forecasting/master/train.csv\n",
            "Resolving raw.githubusercontent.com (raw.githubusercontent.com)... 151.101.0.133, 151.101.64.133, 151.101.128.133, ...\n",
            "Connecting to raw.githubusercontent.com (raw.githubusercontent.com)|151.101.0.133|:443... connected.\n",
            "HTTP request sent, awaiting response... 200 OK\n",
            "Length: 12842546 (12M) [text/plain]\n",
            "Saving to: ‘train.csv.3’\n",
            "\n",
            "train.csv.3         100%[===================>]  12.25M  62.5MB/s    in 0.2s    \n",
            "\n",
            "2020-09-15 20:22:27 (62.5 MB/s) - ‘train.csv.3’ saved [12842546/12842546]\n",
            "\n"
          ],
          "name": "stdout"
        }
      ]
    },
    {
      "cell_type": "code",
      "metadata": {
        "id": "a3UMEyN7jO2C",
        "colab": {
          "base_uri": "https://localhost:8080/",
          "height": 105
        },
        "outputId": "feb8a5f7-f391-468b-816e-a85440c9eec6"
      },
      "source": [
        "#importing required packages and libraries\n",
        "import numpy as np\n",
        "import pandas as pd\n",
        "import os\n",
        "import datetime\n",
        "import warnings\n",
        "import matplotlib.pyplot as plt\n",
        "from time import time\n",
        "import matplotlib.patches as mpatches\n",
        "import seaborn as sns; sns.set(style=\"ticks\", color_codes=True)\n",
        "\n",
        "from sklearn.model_selection import train_test_split\n",
        "from sklearn.ensemble import ExtraTreesRegressor, RandomForestRegressor\n",
        "from sklearn.neighbors import KNeighborsRegressor\n",
        "from sklearn.svm import SVR\n",
        "from sklearn.feature_selection import RFE\n",
        "from sklearn.neural_network import MLPRegressor\n",
        "from sklearn.model_selection import KFold\n",
        "from sklearn.preprocessing import MinMaxScaler, RobustScaler\n",
        "from sklearn.metrics import mean_absolute_error, mean_squared_error, mean_squared_log_error\n",
        "from sklearn.metrics.scorer import make_scorer\n",
        "from sklearn.linear_model import LinearRegression, Lasso, ElasticNet\n",
        "from sklearn.ensemble import GradientBoostingRegressor\n",
        "from sklearn.model_selection import KFold, cross_val_score, GridSearchCV\n",
        "\n",
        "import xgboost as xgb\n",
        "from lightgbm import LGBMRegressor"
      ],
      "execution_count": null,
      "outputs": [
        {
          "output_type": "stream",
          "text": [
            "/usr/local/lib/python3.6/dist-packages/statsmodels/tools/_testing.py:19: FutureWarning: pandas.util.testing is deprecated. Use the functions in the public API at pandas.testing instead.\n",
            "  import pandas.util.testing as tm\n",
            "/usr/local/lib/python3.6/dist-packages/sklearn/utils/deprecation.py:144: FutureWarning: The sklearn.metrics.scorer module is  deprecated in version 0.22 and will be removed in version 0.24. The corresponding classes / functions should instead be imported from sklearn.metrics. Anything that cannot be imported from sklearn.metrics is now part of the private API.\n",
            "  warnings.warn(message, FutureWarning)\n"
          ],
          "name": "stderr"
        }
      ]
    },
    {
      "cell_type": "code",
      "metadata": {
        "id": "rjamS01QMjXs"
      },
      "source": [
        "warnings.filterwarnings('ignore')"
      ],
      "execution_count": null,
      "outputs": []
    },
    {
      "cell_type": "markdown",
      "metadata": {
        "id": "bKTf0Gkhp46T"
      },
      "source": [
        "Defining functions to be used later in the modeling"
      ]
    },
    {
      "cell_type": "code",
      "metadata": {
        "id": "j_RCBlzFA3Ds"
      },
      "source": [
        "def distribution(data, features, transformed = False):\n",
        "\n",
        "    #Visualization code for displaying distributions of features\n",
        "    \n",
        "    # Create figure\n",
        "    fig = plt.figure(figsize = (11,5));\n",
        "\n",
        "    # Skewed feature plotting\n",
        "    for i, feature in enumerate(features):\n",
        "        axisg = fig.add_subplot(1, 2, i+1)\n",
        "        axisg.hist(data[feature], bins = 25, color = '#00A0A0')\n",
        "        axisg.set_title(\"'%s' Feature Distribution\"%(feature), fontsize = 14)\n",
        "        axisg.set_xlabel(\"Value\")\n",
        "        axisg.set_ylabel(\"Number of Records\")\n",
        "        axisg.set_ylim((0, 2000))\n",
        "        axisg.set_yticks([0, 500, 1000, 1500, 2000])\n",
        "        axisg.set_yticklabels([0, 500, 1000, 1500, \">2000\"])\n",
        "\n",
        "    # Plot aesthetics\n",
        "    if transformed:\n",
        "        fig.suptitle(\"Log-transformed Distributions of Continuous Data Features\", \\\n",
        "            fontsize = 16, y = 1.03)\n",
        "    else:\n",
        "        fig.suptitle(\"Distributions of Continuous Data Features\", \\\n",
        "            fontsize = 16, y = 1.03)\n",
        "\n",
        "    fig.tight_layout()\n",
        "    fig.show()"
      ],
      "execution_count": null,
      "outputs": []
    },
    {
      "cell_type": "code",
      "metadata": {
        "id": "Z9gc4WzYCPIy"
      },
      "source": [
        "def eval_train_predict(learner, sample_size, train_X, train_y, test_X, test_y, transform_y, log_constant): \n",
        "    '''\n",
        "    inputs:\n",
        "       - learner: the learning algorithm to be trained and predicted on\n",
        "       - sample_size: the size of samples (number) to be drawn from training set       \n",
        "       - train_X: features training set\n",
        "       - train_y: sales training set\n",
        "       - test_X: features testing set\n",
        "       - test_y: sales testing set\n",
        "    '''\n",
        "    \n",
        "    results = {}\n",
        "    \n",
        "    # Fit the learner to the training data\n",
        "    start = time() # Get start time\n",
        "    learner = learner.fit(train_X[:sample_size], train_y[:sample_size])\n",
        "    end = time() # Get end time\n",
        "    \n",
        "    # Calculate the training time\n",
        "    results['time_train'] = end - start\n",
        "        \n",
        "    # Get the predictions on the test set(X_test),\n",
        "    start = time() # Get start time\n",
        "    predictions = learner.predict(test_X)\n",
        "    end = time() # Get end time\n",
        "    \n",
        "    # Calculate the total prediction time\n",
        "    results['time_pred'] = end - start\n",
        "            \n",
        "    # Compute Weighted Mean Absolute Error on Test Set\n",
        "    if transform_y == 'log':\n",
        "        results['WMAE'] = weighted_mean_absolute_error(np.exp(test_y) - 1 - log_constant, \n",
        "                                                       np.exp(predictions) - 1 - log_constant, \n",
        "                                                       compute_weights(test_X['IsHoliday']))\n",
        "    else:\n",
        "        results['WMAE'] = weighted_mean_absolute_error(test_y, predictions, compute_weights(test_X['IsHoliday']))\n",
        "                   \n",
        "    # Success\n",
        "    print(\"{} trained on {} samples.\".format(learner.__class__.__name__, sample_size))\n",
        "        \n",
        "    # Return the results\n",
        "    return results"
      ],
      "execution_count": null,
      "outputs": []
    },
    {
      "cell_type": "code",
      "metadata": {
        "id": "D7t7_BcyFPxn"
      },
      "source": [
        "def eval_visualize(results):\n",
        "    \"\"\"\n",
        "    Visualization code to display results of various learners.\n",
        "    \n",
        "    inputs:\n",
        "      - learners: a list of supervised learners\n",
        "      - stats: a list of dictionaries of the statistic results from 'train_predict()'\n",
        "    \"\"\"\n",
        "  \n",
        "    # Create figure\n",
        "    fig, ax = plt.subplots(1, 3, figsize = (18,8))\n",
        "\n",
        "    # Constants\n",
        "    bar_width = 0.1\n",
        "    colors = ['#A00000','#00A0A0','#00A000','#E3DAC9','#555555', '#87CEEB']\n",
        "    metrics = ['time_train', 'time_pred', 'WMAE']\n",
        "    \n",
        "    # Super loop to plot four panels of data\n",
        "    for k, learner in enumerate(results.keys()):\n",
        "        for j, metric in enumerate(metrics):\n",
        "            # Creative plot code\n",
        "            ax[j%3].bar(0+k*bar_width, results[learner][0][metric], width = bar_width, color = colors[k])\n",
        "            ax[j%3].set_xlabel(\"Models\")\n",
        "            ax[j%3].set_xticklabels([''])\n",
        "                \n",
        "    # Add unique y-labels\n",
        "    ax[0].set_ylabel(\"Time (in seconds)\")\n",
        "    ax[1].set_ylabel(\"Time (in seconds)\")\n",
        "    ax[2].set_ylabel(\"WMAE\")\n",
        "    \n",
        "    # Add titles\n",
        "    ax[0].set_title(\"Model Training\")\n",
        "    ax[1].set_title(\"Model Predicting\")\n",
        "    ax[2].set_title(\"WMAE on Testing Set\")\n",
        " \n",
        "    # Create patches for the legend\n",
        "    patches = []\n",
        "    for i, learner in enumerate(results.keys()):\n",
        "        patches.append(mpatches.Patch(color = colors[i], label = learner))\n",
        "    plt.legend(handles = patches, bbox_to_anchor = (-.80, 2.43), \\\n",
        "               loc = 'upper center', borderaxespad = 0., ncol = 3, fontsize = 'x-large')\n",
        "    \n",
        "    # Aesthetics\n",
        "    plt.suptitle(\"Performance Metrics for Supervised Learning Models\", fontsize = 16, y = 1.10)\n",
        "    plt.tight_layout()\n",
        "    plt.show()"
      ],
      "execution_count": null,
      "outputs": []
    },
    {
      "cell_type": "code",
      "metadata": {
        "id": "RZqAWqqAFUpw"
      },
      "source": [
        "def train_predict(learner, train_X, train_y, test_X, test_y, transform_y, log_constant, verbose=0): \n",
        "    '''\n",
        "    inputs:\n",
        "       - learner: the learning algorithm to be trained and predicted on\n",
        "       - train_X: features training set\n",
        "       - train_y: sales training set\n",
        "       - test_X: features testing set\n",
        "       - test_y: sales testing set\n",
        "    '''\n",
        "    \n",
        "    results = {}\n",
        "    \n",
        "    # Fit the learner to the training data\n",
        "    start = time() # Get start time\n",
        "    learner = learner.fit(train_X, train_y)\n",
        "    end = time() # Get end time\n",
        "    \n",
        "    # Calculate the training time\n",
        "    results['time_train'] = end - start\n",
        "        \n",
        "    # Get the predictions on the test set(X_test),\n",
        "    start = time() # Get start time\n",
        "    predictions = learner.predict(test_X)\n",
        "    end = time() # Get end time\n",
        "    \n",
        "    # Calculate the total prediction time\n",
        "    results['time_pred'] = end - start\n",
        "            \n",
        "    # Compute Weighted Mean Absolute Error on Test Set\n",
        "    if transform_y == 'log':\n",
        "        results['WMAE'] = weighted_mean_absolute_error(np.exp(test_y) - 1 - log_constant, \n",
        "                                                       np.exp(predictions) - 1 - log_constant, \n",
        "                                                       compute_weights(test_X['IsHoliday']))\n",
        "    else:\n",
        "        results['WMAE'] = weighted_mean_absolute_error(test_y, predictions, compute_weights(test_X['IsHoliday']))\n",
        "    \n",
        "\n",
        "    #Extract the feature importances\n",
        "    importances = learner.feature_importances_\n",
        "\n",
        "    # Success\n",
        "    print(\"Learner Name :\", learner.__class__.__name__)\n",
        "    print(\"Training     :\", round(results['time_train'],2), \"secs /\", len(train_y), \"records\")\n",
        "    print(\"Predicting   :\", round(results['time_pred'],2), \"secs /\", len(test_y), \"records\")\n",
        "    print(\"Weighted MAE :\", round(results['WMAE'],2))\n",
        "\n",
        "    if verbose == 1:\n",
        "        # Plot\n",
        "        print(\"\\n<Feature Importance>\\n\")\n",
        "        feature_plot(importances, train_X, train_y, 10)\n",
        "\n",
        "        print(\"\\n<Feature Weightage>\\n\")\n",
        "        topk = len(train_X.columns)\n",
        "        indices = np.argsort(importances)[::-1]\n",
        "        columns = train_X.columns.values[indices[:topk]]\n",
        "        values = importances[indices][:topk]\n",
        "\n",
        "        for i in range(topk):\n",
        "            print('\\t' + columns[i] + (' ' * (15 - len(columns[i])) + ': ' + str(values[i])))\n",
        "            \n",
        "        print(\"\\n<Learner Params>\\n\", model.get_params())\n",
        "    \n",
        "    # Return the model & predictions\n",
        "    return (learner, predictions)"
      ],
      "execution_count": null,
      "outputs": []
    },
    {
      "cell_type": "code",
      "metadata": {
        "id": "5PBM3Z5bFX0v"
      },
      "source": [
        "def feature_plot(importances, train_X, train_y, topk=5):\n",
        "    \n",
        "    # Display the most important features\n",
        "    indices = np.argsort(importances)[::-1]\n",
        "    columns = train_X.columns.values[indices[:topk]]\n",
        "    values = importances[indices][:topk]\n",
        "\n",
        "    # Creat the plot\n",
        "    fig = plt.figure(figsize = (18,5))\n",
        "    plt.title(\"Normalized Weights for First \" + str(topk) + \" Most Predictive Features\", fontsize = 16)\n",
        "    plt.bar(np.arange(topk), values, width = 0.6, align=\"center\", color = '#00A000', \\\n",
        "          label = \"Feature Weight\")\n",
        "    plt.bar(np.arange(topk) - 0.3, np.cumsum(values), width = 0.2, align = \"center\", color = '#00A0A0', \\\n",
        "          label = \"Cumulative Feature Weight\")\n",
        "    plt.xticks(np.arange(topk), columns)\n",
        "    plt.xlim((-0.5, 9.5))\n",
        "    plt.ylabel(\"Weight\", fontsize = 12)\n",
        "    plt.xlabel(\"Feature\", fontsize = 12)\n",
        "    \n",
        "    plt.legend(loc = 'upper left')\n",
        "    plt.tight_layout()\n",
        "    plt.show()  "
      ],
      "execution_count": null,
      "outputs": []
    },
    {
      "cell_type": "code",
      "metadata": {
        "id": "nrTRGSOYFbBY"
      },
      "source": [
        "def reduce_mem_usage(df, verbose=True):\n",
        "    \"\"\" iterate through all the columns of a dataframe and modify the data type\n",
        "        to reduce memory usage.        \n",
        "    \"\"\"    \n",
        "    numerics = ['int16', 'int32', 'int64', 'float16', 'float32', 'float64']\n",
        "    start_mem = df.memory_usage().sum() / 1024**2    \n",
        "    print('Memory usage of dataframe is {:.2f} MB'.format(start_mem))    \n",
        "    \n",
        "    for col in df.columns:\n",
        "        col_type = df[col].dtypes\n",
        "        if col_type in numerics:\n",
        "            c_min = df[col].min()\n",
        "            c_max = df[col].max()\n",
        "            if str(col_type)[:3] == 'int':\n",
        "                if c_min > np.iinfo(np.int8).min and c_max < np.iinfo(np.int8).max:\n",
        "                    df[col] = df[col].astype(np.int8)\n",
        "                elif c_min > np.iinfo(np.int16).min and c_max < np.iinfo(np.int16).max:\n",
        "                    df[col] = df[col].astype(np.int16)\n",
        "                elif c_min > np.iinfo(np.int32).min and c_max < np.iinfo(np.int32).max:\n",
        "                    df[col] = df[col].astype(np.int32)\n",
        "                elif c_min > np.iinfo(np.int64).min and c_max < np.iinfo(np.int64).max:\n",
        "                    df[col] = df[col].astype(np.int64)  \n",
        "            else:\n",
        "                if c_min > np.finfo(np.float16).min and c_max < np.finfo(np.float16).max:\n",
        "                    df[col] = df[col].astype(np.float16)\n",
        "                elif c_min > np.finfo(np.float32).min and c_max < np.finfo(np.float32).max:\n",
        "                    df[col] = df[col].astype(np.float32)\n",
        "                else:\n",
        "                    df[col] = df[col].astype(np.float64)    \n",
        "    end_mem = df.memory_usage().sum() / 1024**2\n",
        "    print('Memory usage after optimization is: {:.2f} MB'.format(end_mem))\n",
        "    print('Decreased by {:.1f}%'.format(100 * (start_mem - end_mem) / start_mem))\n",
        "    return df"
      ],
      "execution_count": null,
      "outputs": []
    },
    {
      "cell_type": "code",
      "metadata": {
        "id": "fVkWffDQCbLw"
      },
      "source": [
        "def weighted_mean_absolute_error(pred_y, test_y, weights):\n",
        "    return 1/sum(weights) * sum(weights * abs(test_y - pred_y))"
      ],
      "execution_count": null,
      "outputs": []
    },
    {
      "cell_type": "code",
      "metadata": {
        "id": "q7ub9u9tCibS"
      },
      "source": [
        "def compute_weights(holidays):\n",
        "    return holidays.apply(lambda x: 1 if x==0 else 5)"
      ],
      "execution_count": null,
      "outputs": []
    },
    {
      "cell_type": "markdown",
      "metadata": {
        "id": "-AXRVlA5rXs8"
      },
      "source": [
        "###Exploratory Data Analysis"
      ]
    },
    {
      "cell_type": "code",
      "metadata": {
        "id": "muAeTUE2j3EH"
      },
      "source": [
        "#reading the data files\n",
        "features = pd.read_csv(\"features.csv\")\n",
        "stores = pd.read_csv(\"stores.csv\")\n",
        "train = pd.read_csv(\"train.csv\")\n",
        "test = pd.read_csv(\"test.csv\")"
      ],
      "execution_count": null,
      "outputs": []
    },
    {
      "cell_type": "code",
      "metadata": {
        "id": "Z2VeoKt70eEt",
        "colab": {
          "base_uri": "https://localhost:8080/",
          "height": 204
        },
        "outputId": "8b86e08e-66f9-4b84-9a8c-dc57ba03c1ef"
      },
      "source": [
        "#store dataset\n",
        "stores.head()"
      ],
      "execution_count": null,
      "outputs": [
        {
          "output_type": "execute_result",
          "data": {
            "text/html": [
              "<div>\n",
              "<style scoped>\n",
              "    .dataframe tbody tr th:only-of-type {\n",
              "        vertical-align: middle;\n",
              "    }\n",
              "\n",
              "    .dataframe tbody tr th {\n",
              "        vertical-align: top;\n",
              "    }\n",
              "\n",
              "    .dataframe thead th {\n",
              "        text-align: right;\n",
              "    }\n",
              "</style>\n",
              "<table border=\"1\" class=\"dataframe\">\n",
              "  <thead>\n",
              "    <tr style=\"text-align: right;\">\n",
              "      <th></th>\n",
              "      <th>Store</th>\n",
              "      <th>Type</th>\n",
              "      <th>Size</th>\n",
              "    </tr>\n",
              "  </thead>\n",
              "  <tbody>\n",
              "    <tr>\n",
              "      <th>0</th>\n",
              "      <td>1</td>\n",
              "      <td>A</td>\n",
              "      <td>151315</td>\n",
              "    </tr>\n",
              "    <tr>\n",
              "      <th>1</th>\n",
              "      <td>2</td>\n",
              "      <td>A</td>\n",
              "      <td>202307</td>\n",
              "    </tr>\n",
              "    <tr>\n",
              "      <th>2</th>\n",
              "      <td>3</td>\n",
              "      <td>B</td>\n",
              "      <td>37392</td>\n",
              "    </tr>\n",
              "    <tr>\n",
              "      <th>3</th>\n",
              "      <td>4</td>\n",
              "      <td>A</td>\n",
              "      <td>205863</td>\n",
              "    </tr>\n",
              "    <tr>\n",
              "      <th>4</th>\n",
              "      <td>5</td>\n",
              "      <td>B</td>\n",
              "      <td>34875</td>\n",
              "    </tr>\n",
              "  </tbody>\n",
              "</table>\n",
              "</div>"
            ],
            "text/plain": [
              "   Store Type    Size\n",
              "0      1    A  151315\n",
              "1      2    A  202307\n",
              "2      3    B   37392\n",
              "3      4    A  205863\n",
              "4      5    B   34875"
            ]
          },
          "metadata": {
            "tags": []
          },
          "execution_count": 14
        }
      ]
    },
    {
      "cell_type": "code",
      "metadata": {
        "id": "TuVaHiQftrOC",
        "colab": {
          "base_uri": "https://localhost:8080/",
          "height": 187
        },
        "outputId": "dadb66b3-f13c-4a00-f198-7ebeded5d754"
      },
      "source": [
        "stores.info()"
      ],
      "execution_count": null,
      "outputs": [
        {
          "output_type": "stream",
          "text": [
            "<class 'pandas.core.frame.DataFrame'>\n",
            "RangeIndex: 45 entries, 0 to 44\n",
            "Data columns (total 3 columns):\n",
            " #   Column  Non-Null Count  Dtype \n",
            "---  ------  --------------  ----- \n",
            " 0   Store   45 non-null     int64 \n",
            " 1   Type    45 non-null     object\n",
            " 2   Size    45 non-null     int64 \n",
            "dtypes: int64(2), object(1)\n",
            "memory usage: 1.2+ KB\n"
          ],
          "name": "stdout"
        }
      ]
    },
    {
      "cell_type": "code",
      "metadata": {
        "id": "TF7dqjoi4Wib",
        "colab": {
          "base_uri": "https://localhost:8080/",
          "height": 142
        },
        "outputId": "4a92ae0c-4e2b-46df-8ca6-675a7086e246"
      },
      "source": [
        "#missing data\n",
        "#missing data\n",
        "total = stores.isnull().sum().sort_values(ascending=False)\n",
        "percent = (stores.isnull().sum()/stores.isnull().count()).sort_values(ascending=False)\n",
        "missing_data = pd.concat([total, percent], axis=1, keys=['Total', 'Percent'])\n",
        "missing_data.head(20)"
      ],
      "execution_count": null,
      "outputs": [
        {
          "output_type": "execute_result",
          "data": {
            "text/html": [
              "<div>\n",
              "<style scoped>\n",
              "    .dataframe tbody tr th:only-of-type {\n",
              "        vertical-align: middle;\n",
              "    }\n",
              "\n",
              "    .dataframe tbody tr th {\n",
              "        vertical-align: top;\n",
              "    }\n",
              "\n",
              "    .dataframe thead th {\n",
              "        text-align: right;\n",
              "    }\n",
              "</style>\n",
              "<table border=\"1\" class=\"dataframe\">\n",
              "  <thead>\n",
              "    <tr style=\"text-align: right;\">\n",
              "      <th></th>\n",
              "      <th>Total</th>\n",
              "      <th>Percent</th>\n",
              "    </tr>\n",
              "  </thead>\n",
              "  <tbody>\n",
              "    <tr>\n",
              "      <th>Size</th>\n",
              "      <td>0</td>\n",
              "      <td>0.0</td>\n",
              "    </tr>\n",
              "    <tr>\n",
              "      <th>Type</th>\n",
              "      <td>0</td>\n",
              "      <td>0.0</td>\n",
              "    </tr>\n",
              "    <tr>\n",
              "      <th>Store</th>\n",
              "      <td>0</td>\n",
              "      <td>0.0</td>\n",
              "    </tr>\n",
              "  </tbody>\n",
              "</table>\n",
              "</div>"
            ],
            "text/plain": [
              "       Total  Percent\n",
              "Size       0      0.0\n",
              "Type       0      0.0\n",
              "Store      0      0.0"
            ]
          },
          "metadata": {
            "tags": []
          },
          "execution_count": 16
        }
      ]
    },
    {
      "cell_type": "code",
      "metadata": {
        "id": "Y4LLnnm54gNP",
        "colab": {
          "base_uri": "https://localhost:8080/",
          "height": 394
        },
        "outputId": "f25e393e-9831-44da-9486-4987f08677b7"
      },
      "source": [
        "fig, ax = plt.subplots(1, 2, figsize = (15,6))\n",
        "ax[0].bar(stores['Type'].unique(), stores['Size'].groupby(stores['Type']).count())\n",
        "ax[0].set_ylabel('# of Stores')\n",
        "ax[0].set_xlabel('Store Type')\n",
        "ax[0].yaxis.grid(True, linewidth=0.3)\n",
        "\n",
        "ax[1].scatter(stores['Type'], stores['Size'])\n",
        "ax[1].scatter(stores['Type'].unique(), stores['Size'].groupby(stores['Type']).mean()) #Store Type Average Store Size Vs \n",
        "ax[1].set_ylabel('Store Size (Total / Average)')\n",
        "ax[1].set_xlabel('Store Type')\n",
        "ax[1].yaxis.grid(True, linewidth=0.3)"
      ],
      "execution_count": null,
      "outputs": [
        {
          "output_type": "display_data",
          "data": {
            "image/png": "[encoded data removed]",
            "text/plain": [
              "<Figure size 1080x432 with 2 Axes>"
            ]
          },
          "metadata": {
            "tags": []
          }
        }
      ]
    },
    {
      "cell_type": "code",
      "metadata": {
        "id": "4G4saO2I4mBb",
        "colab": {
          "base_uri": "https://localhost:8080/",
          "height": 173
        },
        "outputId": "286ab930-e497-4918-8093-cf7331282ec5"
      },
      "source": [
        "stores[(stores['Size'] < 40000) & (~stores['Type'].isin(['C']))]"
      ],
      "execution_count": null,
      "outputs": [
        {
          "output_type": "execute_result",
          "data": {
            "text/html": [
              "<div>\n",
              "<style scoped>\n",
              "    .dataframe tbody tr th:only-of-type {\n",
              "        vertical-align: middle;\n",
              "    }\n",
              "\n",
              "    .dataframe tbody tr th {\n",
              "        vertical-align: top;\n",
              "    }\n",
              "\n",
              "    .dataframe thead th {\n",
              "        text-align: right;\n",
              "    }\n",
              "</style>\n",
              "<table border=\"1\" class=\"dataframe\">\n",
              "  <thead>\n",
              "    <tr style=\"text-align: right;\">\n",
              "      <th></th>\n",
              "      <th>Store</th>\n",
              "      <th>Type</th>\n",
              "      <th>Size</th>\n",
              "    </tr>\n",
              "  </thead>\n",
              "  <tbody>\n",
              "    <tr>\n",
              "      <th>2</th>\n",
              "      <td>3</td>\n",
              "      <td>B</td>\n",
              "      <td>37392</td>\n",
              "    </tr>\n",
              "    <tr>\n",
              "      <th>4</th>\n",
              "      <td>5</td>\n",
              "      <td>B</td>\n",
              "      <td>34875</td>\n",
              "    </tr>\n",
              "    <tr>\n",
              "      <th>32</th>\n",
              "      <td>33</td>\n",
              "      <td>A</td>\n",
              "      <td>39690</td>\n",
              "    </tr>\n",
              "    <tr>\n",
              "      <th>35</th>\n",
              "      <td>36</td>\n",
              "      <td>A</td>\n",
              "      <td>39910</td>\n",
              "    </tr>\n",
              "  </tbody>\n",
              "</table>\n",
              "</div>"
            ],
            "text/plain": [
              "    Store Type   Size\n",
              "2       3    B  37392\n",
              "4       5    B  34875\n",
              "32     33    A  39690\n",
              "35     36    A  39910"
            ]
          },
          "metadata": {
            "tags": []
          },
          "execution_count": 18
        }
      ]
    },
    {
      "cell_type": "code",
      "metadata": {
        "id": "sll6y8Nptduk",
        "colab": {
          "base_uri": "https://localhost:8080/",
          "height": 204
        },
        "outputId": "386b10b6-5303-4562-a700-1260b0e7e92a"
      },
      "source": [
        "#feature dataset\n",
        "features.head()"
      ],
      "execution_count": null,
      "outputs": [
        {
          "output_type": "execute_result",
          "data": {
            "text/html": [
              "<div>\n",
              "<style scoped>\n",
              "    .dataframe tbody tr th:only-of-type {\n",
              "        vertical-align: middle;\n",
              "    }\n",
              "\n",
              "    .dataframe tbody tr th {\n",
              "        vertical-align: top;\n",
              "    }\n",
              "\n",
              "    .dataframe thead th {\n",
              "        text-align: right;\n",
              "    }\n",
              "</style>\n",
              "<table border=\"1\" class=\"dataframe\">\n",
              "  <thead>\n",
              "    <tr style=\"text-align: right;\">\n",
              "      <th></th>\n",
              "      <th>Store</th>\n",
              "      <th>Date</th>\n",
              "      <th>Temperature</th>\n",
              "      <th>Fuel_Price</th>\n",
              "      <th>MarkDown1</th>\n",
              "      <th>MarkDown2</th>\n",
              "      <th>MarkDown3</th>\n",
              "      <th>MarkDown4</th>\n",
              "      <th>MarkDown5</th>\n",
              "      <th>CPI</th>\n",
              "      <th>Unemployment</th>\n",
              "      <th>IsHoliday</th>\n",
              "    </tr>\n",
              "  </thead>\n",
              "  <tbody>\n",
              "    <tr>\n",
              "      <th>0</th>\n",
              "      <td>1</td>\n",
              "      <td>2010-02-05</td>\n",
              "      <td>42.31</td>\n",
              "      <td>2.572</td>\n",
              "      <td>NaN</td>\n",
              "      <td>NaN</td>\n",
              "      <td>NaN</td>\n",
              "      <td>NaN</td>\n",
              "      <td>NaN</td>\n",
              "      <td>211.096358</td>\n",
              "      <td>8.106</td>\n",
              "      <td>False</td>\n",
              "    </tr>\n",
              "    <tr>\n",
              "      <th>1</th>\n",
              "      <td>1</td>\n",
              "      <td>2010-02-12</td>\n",
              "      <td>38.51</td>\n",
              "      <td>2.548</td>\n",
              "      <td>NaN</td>\n",
              "      <td>NaN</td>\n",
              "      <td>NaN</td>\n",
              "      <td>NaN</td>\n",
              "      <td>NaN</td>\n",
              "      <td>211.242170</td>\n",
              "      <td>8.106</td>\n",
              "      <td>True</td>\n",
              "    </tr>\n",
              "    <tr>\n",
              "      <th>2</th>\n",
              "      <td>1</td>\n",
              "      <td>2010-02-19</td>\n",
              "      <td>39.93</td>\n",
              "      <td>2.514</td>\n",
              "      <td>NaN</td>\n",
              "      <td>NaN</td>\n",
              "      <td>NaN</td>\n",
              "      <td>NaN</td>\n",
              "      <td>NaN</td>\n",
              "      <td>211.289143</td>\n",
              "      <td>8.106</td>\n",
              "      <td>False</td>\n",
              "    </tr>\n",
              "    <tr>\n",
              "      <th>3</th>\n",
              "      <td>1</td>\n",
              "      <td>2010-02-26</td>\n",
              "      <td>46.63</td>\n",
              "      <td>2.561</td>\n",
              "      <td>NaN</td>\n",
              "      <td>NaN</td>\n",
              "      <td>NaN</td>\n",
              "      <td>NaN</td>\n",
              "      <td>NaN</td>\n",
              "      <td>211.319643</td>\n",
              "      <td>8.106</td>\n",
              "      <td>False</td>\n",
              "    </tr>\n",
              "    <tr>\n",
              "      <th>4</th>\n",
              "      <td>1</td>\n",
              "      <td>2010-03-05</td>\n",
              "      <td>46.50</td>\n",
              "      <td>2.625</td>\n",
              "      <td>NaN</td>\n",
              "      <td>NaN</td>\n",
              "      <td>NaN</td>\n",
              "      <td>NaN</td>\n",
              "      <td>NaN</td>\n",
              "      <td>211.350143</td>\n",
              "      <td>8.106</td>\n",
              "      <td>False</td>\n",
              "    </tr>\n",
              "  </tbody>\n",
              "</table>\n",
              "</div>"
            ],
            "text/plain": [
              "   Store        Date  Temperature  ...         CPI  Unemployment  IsHoliday\n",
              "0      1  2010-02-05        42.31  ...  211.096358         8.106      False\n",
              "1      1  2010-02-12        38.51  ...  211.242170         8.106       True\n",
              "2      1  2010-02-19        39.93  ...  211.289143         8.106      False\n",
              "3      1  2010-02-26        46.63  ...  211.319643         8.106      False\n",
              "4      1  2010-03-05        46.50  ...  211.350143         8.106      False\n",
              "\n",
              "[5 rows x 12 columns]"
            ]
          },
          "metadata": {
            "tags": []
          },
          "execution_count": 19
        }
      ]
    },
    {
      "cell_type": "code",
      "metadata": {
        "id": "0qrTWV4Itw7e",
        "colab": {
          "base_uri": "https://localhost:8080/",
          "height": 340
        },
        "outputId": "5b5b42b8-2a10-432a-ea26-ef92029960c4"
      },
      "source": [
        "features.info()\n"
      ],
      "execution_count": null,
      "outputs": [
        {
          "output_type": "stream",
          "text": [
            "<class 'pandas.core.frame.DataFrame'>\n",
            "RangeIndex: 8190 entries, 0 to 8189\n",
            "Data columns (total 12 columns):\n",
            " #   Column        Non-Null Count  Dtype  \n",
            "---  ------        --------------  -----  \n",
            " 0   Store         8190 non-null   int64  \n",
            " 1   Date          8190 non-null   object \n",
            " 2   Temperature   8190 non-null   float64\n",
            " 3   Fuel_Price    8190 non-null   float64\n",
            " 4   MarkDown1     4032 non-null   float64\n",
            " 5   MarkDown2     2921 non-null   float64\n",
            " 6   MarkDown3     3613 non-null   float64\n",
            " 7   MarkDown4     3464 non-null   float64\n",
            " 8   MarkDown5     4050 non-null   float64\n",
            " 9   CPI           7605 non-null   float64\n",
            " 10  Unemployment  7605 non-null   float64\n",
            " 11  IsHoliday     8190 non-null   bool   \n",
            "dtypes: bool(1), float64(9), int64(1), object(1)\n",
            "memory usage: 712.0+ KB\n"
          ],
          "name": "stdout"
        }
      ]
    },
    {
      "cell_type": "code",
      "metadata": {
        "id": "WP9n1I8Kt2Ce",
        "colab": {
          "base_uri": "https://localhost:8080/",
          "height": 421
        },
        "outputId": "5878c089-528a-4e45-8edc-cff08d880031"
      },
      "source": [
        "#missing data\n",
        "total = features.isnull().sum().sort_values(ascending=False)\n",
        "percent = (features.isnull().sum()/features.isnull().count()).sort_values(ascending=False)\n",
        "missing_data = pd.concat([total, percent], axis=1, keys=['Total', 'Percent'])\n",
        "missing_data.head(20)"
      ],
      "execution_count": null,
      "outputs": [
        {
          "output_type": "execute_result",
          "data": {
            "text/html": [
              "<div>\n",
              "<style scoped>\n",
              "    .dataframe tbody tr th:only-of-type {\n",
              "        vertical-align: middle;\n",
              "    }\n",
              "\n",
              "    .dataframe tbody tr th {\n",
              "        vertical-align: top;\n",
              "    }\n",
              "\n",
              "    .dataframe thead th {\n",
              "        text-align: right;\n",
              "    }\n",
              "</style>\n",
              "<table border=\"1\" class=\"dataframe\">\n",
              "  <thead>\n",
              "    <tr style=\"text-align: right;\">\n",
              "      <th></th>\n",
              "      <th>Total</th>\n",
              "      <th>Percent</th>\n",
              "    </tr>\n",
              "  </thead>\n",
              "  <tbody>\n",
              "    <tr>\n",
              "      <th>MarkDown2</th>\n",
              "      <td>5269</td>\n",
              "      <td>0.643346</td>\n",
              "    </tr>\n",
              "    <tr>\n",
              "      <th>MarkDown4</th>\n",
              "      <td>4726</td>\n",
              "      <td>0.577045</td>\n",
              "    </tr>\n",
              "    <tr>\n",
              "      <th>MarkDown3</th>\n",
              "      <td>4577</td>\n",
              "      <td>0.558852</td>\n",
              "    </tr>\n",
              "    <tr>\n",
              "      <th>MarkDown1</th>\n",
              "      <td>4158</td>\n",
              "      <td>0.507692</td>\n",
              "    </tr>\n",
              "    <tr>\n",
              "      <th>MarkDown5</th>\n",
              "      <td>4140</td>\n",
              "      <td>0.505495</td>\n",
              "    </tr>\n",
              "    <tr>\n",
              "      <th>Unemployment</th>\n",
              "      <td>585</td>\n",
              "      <td>0.071429</td>\n",
              "    </tr>\n",
              "    <tr>\n",
              "      <th>CPI</th>\n",
              "      <td>585</td>\n",
              "      <td>0.071429</td>\n",
              "    </tr>\n",
              "    <tr>\n",
              "      <th>IsHoliday</th>\n",
              "      <td>0</td>\n",
              "      <td>0.000000</td>\n",
              "    </tr>\n",
              "    <tr>\n",
              "      <th>Fuel_Price</th>\n",
              "      <td>0</td>\n",
              "      <td>0.000000</td>\n",
              "    </tr>\n",
              "    <tr>\n",
              "      <th>Temperature</th>\n",
              "      <td>0</td>\n",
              "      <td>0.000000</td>\n",
              "    </tr>\n",
              "    <tr>\n",
              "      <th>Date</th>\n",
              "      <td>0</td>\n",
              "      <td>0.000000</td>\n",
              "    </tr>\n",
              "    <tr>\n",
              "      <th>Store</th>\n",
              "      <td>0</td>\n",
              "      <td>0.000000</td>\n",
              "    </tr>\n",
              "  </tbody>\n",
              "</table>\n",
              "</div>"
            ],
            "text/plain": [
              "              Total   Percent\n",
              "MarkDown2      5269  0.643346\n",
              "MarkDown4      4726  0.577045\n",
              "MarkDown3      4577  0.558852\n",
              "MarkDown1      4158  0.507692\n",
              "MarkDown5      4140  0.505495\n",
              "Unemployment    585  0.071429\n",
              "CPI             585  0.071429\n",
              "IsHoliday         0  0.000000\n",
              "Fuel_Price        0  0.000000\n",
              "Temperature       0  0.000000\n",
              "Date              0  0.000000\n",
              "Store             0  0.000000"
            ]
          },
          "metadata": {
            "tags": []
          },
          "execution_count": 21
        }
      ]
    },
    {
      "cell_type": "code",
      "metadata": {
        "id": "bUyReCBHuIrx",
        "colab": {
          "base_uri": "https://localhost:8080/",
          "height": 411
        },
        "outputId": "30d13232-3cdd-4763-f183-b3d698bbd671"
      },
      "source": [
        "# Distribution of NaNs for all columns\n",
        "features_missing = features.isna().sum()/len(features) * 100\n",
        "\n",
        "plt.figure(figsize=(6,6))\n",
        "plt.yticks(np.arange(len(features_missing)),features_missing.index,rotation='horizontal')\n",
        "plt.xlabel('fraction of rows with missing data')\n",
        "plt.barh(np.arange(len(features_missing)), features_missing)"
      ],
      "execution_count": null,
      "outputs": [
        {
          "output_type": "execute_result",
          "data": {
            "text/plain": [
              "<BarContainer object of 12 artists>"
            ]
          },
          "metadata": {
            "tags": []
          },
          "execution_count": 22
        },
        {
          "output_type": "display_data",
          "data": {
            "image/png": "[encoded data removed]",
            "text/plain": [
              "<Figure size 432x432 with 1 Axes>"
            ]
          },
          "metadata": {
            "tags": []
          }
        }
      ]
    },
    {
      "cell_type": "code",
      "metadata": {
        "id": "f7QB2LWkuk_U",
        "colab": {
          "base_uri": "https://localhost:8080/",
          "height": 204
        },
        "outputId": "5405c49e-5017-4ba9-f920-bbb5c40faf2c"
      },
      "source": [
        "#train dataset\n",
        "train.head()"
      ],
      "execution_count": null,
      "outputs": [
        {
          "output_type": "execute_result",
          "data": {
            "text/html": [
              "<div>\n",
              "<style scoped>\n",
              "    .dataframe tbody tr th:only-of-type {\n",
              "        vertical-align: middle;\n",
              "    }\n",
              "\n",
              "    .dataframe tbody tr th {\n",
              "        vertical-align: top;\n",
              "    }\n",
              "\n",
              "    .dataframe thead th {\n",
              "        text-align: right;\n",
              "    }\n",
              "</style>\n",
              "<table border=\"1\" class=\"dataframe\">\n",
              "  <thead>\n",
              "    <tr style=\"text-align: right;\">\n",
              "      <th></th>\n",
              "      <th>Store</th>\n",
              "      <th>Dept</th>\n",
              "      <th>Date</th>\n",
              "      <th>Weekly_Sales</th>\n",
              "      <th>IsHoliday</th>\n",
              "    </tr>\n",
              "  </thead>\n",
              "  <tbody>\n",
              "    <tr>\n",
              "      <th>0</th>\n",
              "      <td>1</td>\n",
              "      <td>1</td>\n",
              "      <td>2010-02-05</td>\n",
              "      <td>24924.50</td>\n",
              "      <td>False</td>\n",
              "    </tr>\n",
              "    <tr>\n",
              "      <th>1</th>\n",
              "      <td>1</td>\n",
              "      <td>1</td>\n",
              "      <td>2010-02-12</td>\n",
              "      <td>46039.49</td>\n",
              "      <td>True</td>\n",
              "    </tr>\n",
              "    <tr>\n",
              "      <th>2</th>\n",
              "      <td>1</td>\n",
              "      <td>1</td>\n",
              "      <td>2010-02-19</td>\n",
              "      <td>41595.55</td>\n",
              "      <td>False</td>\n",
              "    </tr>\n",
              "    <tr>\n",
              "      <th>3</th>\n",
              "      <td>1</td>\n",
              "      <td>1</td>\n",
              "      <td>2010-02-26</td>\n",
              "      <td>19403.54</td>\n",
              "      <td>False</td>\n",
              "    </tr>\n",
              "    <tr>\n",
              "      <th>4</th>\n",
              "      <td>1</td>\n",
              "      <td>1</td>\n",
              "      <td>2010-03-05</td>\n",
              "      <td>21827.90</td>\n",
              "      <td>False</td>\n",
              "    </tr>\n",
              "  </tbody>\n",
              "</table>\n",
              "</div>"
            ],
            "text/plain": [
              "   Store  Dept        Date  Weekly_Sales  IsHoliday\n",
              "0      1     1  2010-02-05      24924.50      False\n",
              "1      1     1  2010-02-12      46039.49       True\n",
              "2      1     1  2010-02-19      41595.55      False\n",
              "3      1     1  2010-02-26      19403.54      False\n",
              "4      1     1  2010-03-05      21827.90      False"
            ]
          },
          "metadata": {
            "tags": []
          },
          "execution_count": 23
        }
      ]
    },
    {
      "cell_type": "code",
      "metadata": {
        "id": "fPpvQnlNuok5",
        "colab": {
          "base_uri": "https://localhost:8080/",
          "height": 221
        },
        "outputId": "10388164-edf3-4da3-eddd-eface436528d"
      },
      "source": [
        "train.info()\n"
      ],
      "execution_count": null,
      "outputs": [
        {
          "output_type": "stream",
          "text": [
            "<class 'pandas.core.frame.DataFrame'>\n",
            "RangeIndex: 421570 entries, 0 to 421569\n",
            "Data columns (total 5 columns):\n",
            " #   Column        Non-Null Count   Dtype  \n",
            "---  ------        --------------   -----  \n",
            " 0   Store         421570 non-null  int64  \n",
            " 1   Dept          421570 non-null  int64  \n",
            " 2   Date          421570 non-null  object \n",
            " 3   Weekly_Sales  421570 non-null  float64\n",
            " 4   IsHoliday     421570 non-null  bool   \n",
            "dtypes: bool(1), float64(1), int64(2), object(1)\n",
            "memory usage: 13.3+ MB\n"
          ],
          "name": "stdout"
        }
      ]
    },
    {
      "cell_type": "code",
      "metadata": {
        "id": "7t0A0o4Zu2xz",
        "colab": {
          "base_uri": "https://localhost:8080/",
          "height": 204
        },
        "outputId": "ad7f3e25-a679-46e6-c3cd-5818076dccfa"
      },
      "source": [
        "#test dataset\n",
        "test.head()\n"
      ],
      "execution_count": null,
      "outputs": [
        {
          "output_type": "execute_result",
          "data": {
            "text/html": [
              "<div>\n",
              "<style scoped>\n",
              "    .dataframe tbody tr th:only-of-type {\n",
              "        vertical-align: middle;\n",
              "    }\n",
              "\n",
              "    .dataframe tbody tr th {\n",
              "        vertical-align: top;\n",
              "    }\n",
              "\n",
              "    .dataframe thead th {\n",
              "        text-align: right;\n",
              "    }\n",
              "</style>\n",
              "<table border=\"1\" class=\"dataframe\">\n",
              "  <thead>\n",
              "    <tr style=\"text-align: right;\">\n",
              "      <th></th>\n",
              "      <th>Store</th>\n",
              "      <th>Dept</th>\n",
              "      <th>Date</th>\n",
              "      <th>IsHoliday</th>\n",
              "    </tr>\n",
              "  </thead>\n",
              "  <tbody>\n",
              "    <tr>\n",
              "      <th>0</th>\n",
              "      <td>1</td>\n",
              "      <td>1</td>\n",
              "      <td>2012-11-02</td>\n",
              "      <td>False</td>\n",
              "    </tr>\n",
              "    <tr>\n",
              "      <th>1</th>\n",
              "      <td>1</td>\n",
              "      <td>1</td>\n",
              "      <td>2012-11-09</td>\n",
              "      <td>False</td>\n",
              "    </tr>\n",
              "    <tr>\n",
              "      <th>2</th>\n",
              "      <td>1</td>\n",
              "      <td>1</td>\n",
              "      <td>2012-11-16</td>\n",
              "      <td>False</td>\n",
              "    </tr>\n",
              "    <tr>\n",
              "      <th>3</th>\n",
              "      <td>1</td>\n",
              "      <td>1</td>\n",
              "      <td>2012-11-23</td>\n",
              "      <td>True</td>\n",
              "    </tr>\n",
              "    <tr>\n",
              "      <th>4</th>\n",
              "      <td>1</td>\n",
              "      <td>1</td>\n",
              "      <td>2012-11-30</td>\n",
              "      <td>False</td>\n",
              "    </tr>\n",
              "  </tbody>\n",
              "</table>\n",
              "</div>"
            ],
            "text/plain": [
              "   Store  Dept        Date  IsHoliday\n",
              "0      1     1  2012-11-02      False\n",
              "1      1     1  2012-11-09      False\n",
              "2      1     1  2012-11-16      False\n",
              "3      1     1  2012-11-23       True\n",
              "4      1     1  2012-11-30      False"
            ]
          },
          "metadata": {
            "tags": []
          },
          "execution_count": 25
        }
      ]
    },
    {
      "cell_type": "code",
      "metadata": {
        "id": "1CkvoBIpvRyB",
        "colab": {
          "base_uri": "https://localhost:8080/",
          "height": 204
        },
        "outputId": "baae63ed-1073-41bc-914c-7eee8a3d2fcc"
      },
      "source": [
        "test.info()"
      ],
      "execution_count": null,
      "outputs": [
        {
          "output_type": "stream",
          "text": [
            "<class 'pandas.core.frame.DataFrame'>\n",
            "RangeIndex: 115064 entries, 0 to 115063\n",
            "Data columns (total 4 columns):\n",
            " #   Column     Non-Null Count   Dtype \n",
            "---  ------     --------------   ----- \n",
            " 0   Store      115064 non-null  int64 \n",
            " 1   Dept       115064 non-null  int64 \n",
            " 2   Date       115064 non-null  object\n",
            " 3   IsHoliday  115064 non-null  bool  \n",
            "dtypes: bool(1), int64(2), object(1)\n",
            "memory usage: 2.7+ MB\n"
          ],
          "name": "stdout"
        }
      ]
    },
    {
      "cell_type": "markdown",
      "metadata": {
        "id": "EVF92gH8r_RX"
      },
      "source": [
        "###Data description and Initial Processing"
      ]
    },
    {
      "cell_type": "code",
      "metadata": {
        "id": "V8HdkJkewkmu",
        "colab": {
          "base_uri": "https://localhost:8080/",
          "height": 34
        },
        "outputId": "27c08767-6fd1-4a29-e102-cbc14c5e7aa7"
      },
      "source": [
        "#1. Missing/Incorrect Values\n",
        "#Stores Data | Correct Type for 4 store\n",
        "\n",
        "stores[stores['Store'].isin([3,5,33,36])].index"
      ],
      "execution_count": null,
      "outputs": [
        {
          "output_type": "execute_result",
          "data": {
            "text/plain": [
              "Int64Index([2, 4, 32, 35], dtype='int64')"
            ]
          },
          "metadata": {
            "tags": []
          },
          "execution_count": 27
        }
      ]
    },
    {
      "cell_type": "code",
      "metadata": {
        "id": "TlnuLOBhwtbf"
      },
      "source": [
        "stores.iat[2, 1] = stores.iat[4, 1] = stores.iat[32, 1] = stores.iat[35, 1] = 'C'"
      ],
      "execution_count": null,
      "outputs": []
    },
    {
      "cell_type": "code",
      "metadata": {
        "id": "V-ahogVhwy1d"
      },
      "source": [
        "#Features Data | Negative values for MarkDowns:\n",
        "features['MarkDown1'] = features['MarkDown1'].apply(lambda x: 0 if x < 0 else x)\n",
        "features['MarkDown2'] = features['MarkDown2'].apply(lambda x: 0 if x < 0 else x)\n",
        "features['MarkDown3'] = features['MarkDown3'].apply(lambda x: 0 if x < 0 else x)\n",
        "features['MarkDown4'] = features['MarkDown4'].apply(lambda x: 0 if x < 0 else x)\n",
        "features['MarkDown5'] = features['MarkDown5'].apply(lambda x: 0 if x < 0 else x)"
      ],
      "execution_count": null,
      "outputs": []
    },
    {
      "cell_type": "code",
      "metadata": {
        "id": "LzAZj2Zfw5ru",
        "colab": {
          "base_uri": "https://localhost:8080/",
          "height": 51
        },
        "outputId": "4acd4bde-fe8b-4bc3-b6f7-b59107fa1c61"
      },
      "source": [
        "#Features Data | NaN values for multiple columns:\n",
        "\n",
        "#Columns: CPI and Unemployment\n",
        "#As noted above, columns are missing values for 3 months May, Jun & Jul 2013. Values from Apr would be propogated to records with missing values.\n",
        "\n",
        "%%time\n",
        "# For each Store, propogate values of CPI & Unemployment to the rows with NaN values\n",
        "for i in range(len(features)):\n",
        "\n",
        "    if features.iloc[i]['Date'] == '2013-04-26':\n",
        "        CPI_new = features.iloc[i]['CPI']\n",
        "        Unemployment_new = features.iloc[i]['Unemployment']\n",
        "    \n",
        "    if np.isnan(features.iloc[i]['CPI']):\n",
        "        features.iat[i, 9] = CPI_new\n",
        "        features.iat[i, 10] = Unemployment_new"
      ],
      "execution_count": null,
      "outputs": [
        {
          "output_type": "stream",
          "text": [
            "CPU times: user 3.14 s, sys: 3.17 ms, total: 3.15 s\n",
            "Wall time: 3.16 s\n"
          ],
          "name": "stdout"
        }
      ]
    },
    {
      "cell_type": "code",
      "metadata": {
        "id": "qgRAYGpZx_2u",
        "colab": {
          "base_uri": "https://localhost:8080/",
          "height": 51
        },
        "outputId": "37d3a2a3-f2d8-493e-ccd6-ac0f7fac6e38"
      },
      "source": [
        "#Columns: MarkDown1, MarkDown2, MarkDown3, MarkDown4 & MarkDown5\n",
        "#As noted above, columns MARKDOWN* are missing values for the whole of 2010 and 2011 (upto Nov). For each store, 2012 values would be copied over to records with missing values. Also, to facilitate the copy, new columns WEEK and YEAR would be derived from DATE.\n",
        "\n",
        "%%time\n",
        "# For each date, retrive the corresponding week number\n",
        "features['Week'] = 0\n",
        "\n",
        "for i in range(len(features)):\n",
        "    features.iat[i, 12] = datetime.date(int(features.iloc[i]['Date'][0:4]), \n",
        "                                        int(features.iloc[i]['Date'][5:7]), \n",
        "                                        int(features.iloc[i]['Date'][8:10])).isocalendar()[1]"
      ],
      "execution_count": null,
      "outputs": [
        {
          "output_type": "stream",
          "text": [
            "CPU times: user 4.85 s, sys: 652 µs, total: 4.85 s\n",
            "Wall time: 4.86 s\n"
          ],
          "name": "stdout"
        }
      ]
    },
    {
      "cell_type": "code",
      "metadata": {
        "id": "wa93Gz5NyHD3"
      },
      "source": [
        "features['Year'] = features['Date'].str.slice(start=0, stop=4)\n"
      ],
      "execution_count": null,
      "outputs": []
    },
    {
      "cell_type": "code",
      "metadata": {
        "id": "LU5y6Q2FyWVb",
        "colab": {
          "base_uri": "https://localhost:8080/",
          "height": 173
        },
        "outputId": "a6063537-83bf-4931-b9a6-e748789b155b"
      },
      "source": [
        "#missing data for 2012 & 2013\n",
        "total = features[features['Year'].isin(['2012','2013'])].isnull().sum().sort_values(ascending=False)\n",
        "percent = (features[features['Year'].isin(['2012','2013'])].isnull().sum()/\n",
        "           features[features['Year'].isin(['2012','2013'])].isnull().count()).sort_values(ascending=False)\n",
        "missing_data = pd.concat([total, percent], axis=1, keys=['Total', 'Percent'])\n",
        "missing_data.head(4)"
      ],
      "execution_count": null,
      "outputs": [
        {
          "output_type": "execute_result",
          "data": {
            "text/html": [
              "<div>\n",
              "<style scoped>\n",
              "    .dataframe tbody tr th:only-of-type {\n",
              "        vertical-align: middle;\n",
              "    }\n",
              "\n",
              "    .dataframe tbody tr th {\n",
              "        vertical-align: top;\n",
              "    }\n",
              "\n",
              "    .dataframe thead th {\n",
              "        text-align: right;\n",
              "    }\n",
              "</style>\n",
              "<table border=\"1\" class=\"dataframe\">\n",
              "  <thead>\n",
              "    <tr style=\"text-align: right;\">\n",
              "      <th></th>\n",
              "      <th>Total</th>\n",
              "      <th>Percent</th>\n",
              "    </tr>\n",
              "  </thead>\n",
              "  <tbody>\n",
              "    <tr>\n",
              "      <th>MarkDown2</th>\n",
              "      <td>1062</td>\n",
              "      <td>0.287805</td>\n",
              "    </tr>\n",
              "    <tr>\n",
              "      <th>MarkDown4</th>\n",
              "      <td>528</td>\n",
              "      <td>0.143089</td>\n",
              "    </tr>\n",
              "    <tr>\n",
              "      <th>MarkDown3</th>\n",
              "      <td>419</td>\n",
              "      <td>0.113550</td>\n",
              "    </tr>\n",
              "    <tr>\n",
              "      <th>MarkDown1</th>\n",
              "      <td>12</td>\n",
              "      <td>0.003252</td>\n",
              "    </tr>\n",
              "  </tbody>\n",
              "</table>\n",
              "</div>"
            ],
            "text/plain": [
              "           Total   Percent\n",
              "MarkDown2   1062  0.287805\n",
              "MarkDown4    528  0.143089\n",
              "MarkDown3    419  0.113550\n",
              "MarkDown1     12  0.003252"
            ]
          },
          "metadata": {
            "tags": []
          },
          "execution_count": 33
        }
      ]
    },
    {
      "cell_type": "code",
      "metadata": {
        "id": "lt1YirT74bbD",
        "colab": {
          "base_uri": "https://localhost:8080/",
          "height": 51
        },
        "outputId": "f5542570-28f9-414e-fd14-aed9caca1179"
      },
      "source": [
        "%%time\n",
        "# For 2010 & 2011 records, for each store, copy over MarkDown values from 2012\n",
        "\n",
        "# Iterate through stores\n",
        "for i in range(1, len(features['Store'].unique())):\n",
        "    \n",
        "    # For 2010, iterate through weeks 5 thru 52\n",
        "    for j in range(5, 52):\n",
        "        idx = features.loc[(features.Year == '2010') & (features.Store == i) & (features.Week == j),['Date']].index[0]\n",
        "        \n",
        "        features.iat[idx, 4] = features.loc[(features.Year == '2012') & (features.Store == i) & (features.Week == j),['MarkDown1']].values[0]\n",
        "        features.iat[idx, 5] = features.loc[(features.Year == '2012') & (features.Store == i) & (features.Week == j),['MarkDown2']].values[0]\n",
        "        features.iat[idx, 6] = features.loc[(features.Year == '2012') & (features.Store == i) & (features.Week == j),['MarkDown3']].values[0]\n",
        "        features.iat[idx, 7] = features.loc[(features.Year == '2012') & (features.Store == i) & (features.Week == j),['MarkDown4']].values[0]\n",
        "        features.iat[idx, 8] = features.loc[(features.Year == '2012') & (features.Store == i) & (features.Week == j),['MarkDown5']].values[0]\n",
        "        \n",
        "    # For 2011, iterate through weeks 1 thru 44\n",
        "    for j in range(1, 44):\n",
        "        idx = features.loc[(features.Year == '2011') & (features.Store == i) & (features.Week == j),['Date']].index[0]\n",
        "        \n",
        "        features.iat[idx, 4] = features.loc[(features.Year == '2012') & (features.Store == i) & (features.Week == j),['MarkDown1']].values[0]\n",
        "        features.iat[idx, 5] = features.loc[(features.Year == '2012') & (features.Store == i) & (features.Week == j),['MarkDown2']].values[0]\n",
        "        features.iat[idx, 6] = features.loc[(features.Year == '2012') & (features.Store == i) & (features.Week == j),['MarkDown3']].values[0]\n",
        "        features.iat[idx, 7] = features.loc[(features.Year == '2012') & (features.Store == i) & (features.Week == j),['MarkDown4']].values[0]\n",
        "        features.iat[idx, 8] = features.loc[(features.Year == '2012') & (features.Store == i) & (features.Week == j),['MarkDown5']].values[0]        \n"
      ],
      "execution_count": null,
      "outputs": [
        {
          "output_type": "stream",
          "text": [
            "CPU times: user 1min 5s, sys: 460 ms, total: 1min 6s\n",
            "Wall time: 1min 5s\n"
          ],
          "name": "stdout"
        }
      ]
    },
    {
      "cell_type": "code",
      "metadata": {
        "id": "AdqfMd5D4wD6"
      },
      "source": [
        "features.drop(columns=['Year'], axis=1, inplace=True)\n"
      ],
      "execution_count": null,
      "outputs": []
    },
    {
      "cell_type": "code",
      "metadata": {
        "id": "9dsBACPR41Dn"
      },
      "source": [
        "# Now fill all the missing MarkDown values with 0\n",
        "features.fillna(0, inplace=True)"
      ],
      "execution_count": null,
      "outputs": []
    },
    {
      "cell_type": "code",
      "metadata": {
        "id": "sow2ZSc84-Rf"
      },
      "source": [
        "#Train Data | Negative Values for Weekly Sales\n",
        "train['Weekly_Sales'] = train['Weekly_Sales'].apply(lambda x: 0 if x < 0 else x)"
      ],
      "execution_count": null,
      "outputs": []
    },
    {
      "cell_type": "code",
      "metadata": {
        "id": "vcEILZ9r5I5X"
      },
      "source": [
        "#2. Merge Datasets\n",
        "train = pd.merge(train, stores, how='left', on=['Store'])\n",
        "train = pd.merge(train, features, how='left', on=['Store','Date'])\n",
        "\n",
        "test = pd.merge(test, stores, how='left', on=['Store'])\n",
        "test = pd.merge(test, features, how='left', on=['Store','Date'])"
      ],
      "execution_count": null,
      "outputs": []
    },
    {
      "cell_type": "code",
      "metadata": {
        "id": "2n09L6a15Qgp",
        "colab": {
          "base_uri": "https://localhost:8080/",
          "height": 34
        },
        "outputId": "c641555c-dcac-4cb5-c990-ad8ff9055c9f"
      },
      "source": [
        "train['Store'][train['IsHoliday_x'] != train['IsHoliday_y']].count()"
      ],
      "execution_count": null,
      "outputs": [
        {
          "output_type": "execute_result",
          "data": {
            "text/plain": [
              "0"
            ]
          },
          "metadata": {
            "tags": []
          },
          "execution_count": 39
        }
      ]
    },
    {
      "cell_type": "code",
      "metadata": {
        "id": "aFrqCCEZ5Xw5",
        "colab": {
          "base_uri": "https://localhost:8080/",
          "height": 34
        },
        "outputId": "47c7bad2-45de-4bf6-fb2f-c111d31e8e2a"
      },
      "source": [
        "test['Store'][test['IsHoliday_x'] != test['IsHoliday_y']].count()"
      ],
      "execution_count": null,
      "outputs": [
        {
          "output_type": "execute_result",
          "data": {
            "text/plain": [
              "0"
            ]
          },
          "metadata": {
            "tags": []
          },
          "execution_count": 40
        }
      ]
    },
    {
      "cell_type": "code",
      "metadata": {
        "id": "sXyb-3uq9476"
      },
      "source": [
        "#removing the duplicate column\n",
        "train.drop(columns=['IsHoliday_y'], axis=1, inplace=True)\n",
        "test.drop(columns=['IsHoliday_y'], axis=1, inplace=True)"
      ],
      "execution_count": null,
      "outputs": []
    },
    {
      "cell_type": "code",
      "metadata": {
        "id": "eFa4YRi79_Eu"
      },
      "source": [
        "train.rename(columns={'IsHoliday_x': 'IsHoliday'}, inplace=True)\n",
        "test.rename(columns={'IsHoliday_x': 'IsHoliday'}, inplace=True)\n"
      ],
      "execution_count": null,
      "outputs": []
    },
    {
      "cell_type": "markdown",
      "metadata": {
        "id": "xnS386xk-VlU"
      },
      "source": [
        "###Feature Engineering"
      ]
    },
    {
      "cell_type": "markdown",
      "metadata": {
        "id": "49Gw9Oov-9I9"
      },
      "source": [
        "Column #1: IsHoliday\n",
        "Column has boolean values and would ned converted to numeric."
      ]
    },
    {
      "cell_type": "code",
      "metadata": {
        "id": "QPOYnR18-AFR"
      },
      "source": [
        "train['IsHoliday'] = train['IsHoliday'].apply(lambda x: 1 if x==True else 0)\n",
        "test['IsHoliday'] = test['IsHoliday'].apply(lambda x: 1 if x==True else 0)"
      ],
      "execution_count": null,
      "outputs": []
    },
    {
      "cell_type": "markdown",
      "metadata": {
        "id": "U2Uo8edO_IMZ"
      },
      "source": [
        "Column #2: Type\n",
        "Column is categorical and would be converted to numeric via one-hot encoding."
      ]
    },
    {
      "cell_type": "code",
      "metadata": {
        "id": "pTrlRnVa_KWe"
      },
      "source": [
        "train = pd.get_dummies(train, columns=['Type'])\n",
        "test = pd.get_dummies(test, columns=['Type'])"
      ],
      "execution_count": null,
      "outputs": []
    },
    {
      "cell_type": "markdown",
      "metadata": {
        "id": "c8bofHix_R0Z"
      },
      "source": [
        "Column #3: Week\n",
        "New numeric column being created to replace YEAR."
      ]
    },
    {
      "cell_type": "code",
      "metadata": {
        "id": "3hPUI7gD_Tmc"
      },
      "source": [
        "train['Week'] = test['Week'] = 0"
      ],
      "execution_count": null,
      "outputs": []
    },
    {
      "cell_type": "code",
      "metadata": {
        "id": "6ekwdDvJ_bau",
        "colab": {
          "base_uri": "https://localhost:8080/",
          "height": 51
        },
        "outputId": "030a3d1b-09f6-488d-8595-fd9819761f34"
      },
      "source": [
        "%%time\n",
        "# For each date, retrive the corresponding week number\n",
        "for i in range(len(train)):\n",
        "    train.iat[i, 15] = datetime.date(int(train.iloc[i]['Date'][0:4]), \n",
        "                                     int(train.iloc[i]['Date'][5:7]), \n",
        "                                     int(train.iloc[i]['Date'][8:10])).isocalendar()[1]"
      ],
      "execution_count": null,
      "outputs": [
        {
          "output_type": "stream",
          "text": [
            "CPU times: user 4min 47s, sys: 61.2 ms, total: 4min 48s\n",
            "Wall time: 4min 48s\n"
          ],
          "name": "stdout"
        }
      ]
    },
    {
      "cell_type": "code",
      "metadata": {
        "id": "9XEhhRQh_ks5",
        "colab": {
          "base_uri": "https://localhost:8080/",
          "height": 51
        },
        "outputId": "70b027ea-e121-475c-b44c-0a0a1b2edba9"
      },
      "source": [
        "%%time\n",
        "# For each date, retrive the corresponding week number\n",
        "for i in range(len(test)):\n",
        "    test.iat[i, 14] = datetime.date(int(test.iloc[i]['Date'][0:4]), \n",
        "                                    int(test.iloc[i]['Date'][5:7]), \n",
        "                                    int(test.iloc[i]['Date'][8:10])).isocalendar()[1]"
      ],
      "execution_count": null,
      "outputs": [
        {
          "output_type": "stream",
          "text": [
            "CPU times: user 1min 17s, sys: 17.6 ms, total: 1min 17s\n",
            "Wall time: 1min 17s\n"
          ],
          "name": "stdout"
        }
      ]
    },
    {
      "cell_type": "code",
      "metadata": {
        "id": "HmegBePI_zbb"
      },
      "source": [
        "train['Year'] = train['Date'].str.slice(start=0, stop=4)\n",
        "test['Year'] = test['Date'].str.slice(start=0, stop=4)"
      ],
      "execution_count": null,
      "outputs": []
    },
    {
      "cell_type": "code",
      "metadata": {
        "id": "XIfdbELL_19Q"
      },
      "source": [
        "# Drop non-numeric columns\n",
        "train.drop(columns=['Date'], axis=1, inplace=True)\n",
        "test.drop(columns=['Date'], axis=1, inplace=True)"
      ],
      "execution_count": null,
      "outputs": []
    },
    {
      "cell_type": "markdown",
      "metadata": {
        "id": "FyS20JUn_89d"
      },
      "source": [
        "Log Transform Skewed Features"
      ]
    },
    {
      "cell_type": "code",
      "metadata": {
        "id": "i4ccuwpS_8Y-"
      },
      "source": [
        "skewed = ['MarkDown1','MarkDown2','MarkDown3','MarkDown4','MarkDown5']\n",
        "train[skewed] = train[skewed].apply(lambda x: np.log(x + 1))\n",
        "test[skewed] = test[skewed].apply(lambda x: np.log(x + 1))"
      ],
      "execution_count": null,
      "outputs": []
    },
    {
      "cell_type": "code",
      "metadata": {
        "id": "Iy16LkU4ADt2"
      },
      "source": [
        "log_constant = 0"
      ],
      "execution_count": null,
      "outputs": []
    },
    {
      "cell_type": "code",
      "metadata": {
        "id": "J7bwtQiiAE95"
      },
      "source": [
        "train['Weekly_Sales'] = train['Weekly_Sales'].apply(lambda x: np.log(x + 1 + log_constant))"
      ],
      "execution_count": null,
      "outputs": []
    },
    {
      "cell_type": "code",
      "metadata": {
        "id": "OhIU7PvSAHDI",
        "colab": {
          "base_uri": "https://localhost:8080/",
          "height": 389
        },
        "outputId": "80318ba8-2d3e-4cd2-88c2-214a22b1fcbd"
      },
      "source": [
        "distribution(train, ['Weekly_Sales'])"
      ],
      "execution_count": null,
      "outputs": [
        {
          "output_type": "display_data",
          "data": {
            "image/png": "[encoded data removed]",
            "text/plain": [
              "<Figure size 792x360 with 1 Axes>"
            ]
          },
          "metadata": {
            "tags": []
          }
        }
      ]
    },
    {
      "cell_type": "markdown",
      "metadata": {
        "id": "zQ1Wj64_ALLg"
      },
      "source": [
        "Analyze Feature Correlation"
      ]
    },
    {
      "cell_type": "code",
      "metadata": {
        "id": "4Lo38CDbAJBC",
        "colab": {
          "base_uri": "https://localhost:8080/",
          "height": 817
        },
        "outputId": "7db3a630-8357-410b-9715-b8145bed09e8"
      },
      "source": [
        "colormap = plt.cm.RdBu\n",
        "corr = train.astype(float).corr()\n",
        "\n",
        "plt.figure(figsize=(14,12))\n",
        "plt.title('Pearson Correlation of Features', y=1.05, size=15)\n",
        "sns.set(font_scale=0.9)\n",
        "sns.heatmap(round(corr,2),linewidths=0.1,vmax=1.0, square=True, \n",
        "            cmap=colormap, linecolor='white', annot=True)"
      ],
      "execution_count": null,
      "outputs": [
        {
          "output_type": "execute_result",
          "data": {
            "text/plain": [
              "<matplotlib.axes._subplots.AxesSubplot at 0x7f3fcbd7a710>"
            ]
          },
          "metadata": {
            "tags": []
          },
          "execution_count": 54
        },
        {
          "output_type": "display_data",
          "data": {
            "image/png": "[encoded data removed]",
            "text/plain": [
              "<Figure size 1008x864 with 2 Axes>"
            ]
          },
          "metadata": {
            "tags": []
          }
        }
      ]
    },
    {
      "cell_type": "code",
      "metadata": {
        "id": "cpFFvfiDA-os"
      },
      "source": [
        "corr_cutoff = 0.8\n",
        "columns = np.full((corr.shape[0],), True, dtype=bool)\n",
        "\n",
        "for i in range(corr.shape[0]):\n",
        "    for j in range(i+1, corr.shape[0]):\n",
        "        if corr.iloc[i,j] >= corr_cutoff:\n",
        "            if columns[j]:\n",
        "                columns[j] = False\n",
        "                \n",
        "selected_columns = train.columns[columns]\n",
        "highcorr_columns = train.columns.difference(selected_columns)"
      ],
      "execution_count": null,
      "outputs": []
    },
    {
      "cell_type": "code",
      "metadata": {
        "id": "nZDaBR3YBAvS",
        "colab": {
          "base_uri": "https://localhost:8080/",
          "height": 34
        },
        "outputId": "b5b873d9-ae41-4943-8ca0-3b99425f3771"
      },
      "source": [
        "highcorr_columns"
      ],
      "execution_count": null,
      "outputs": [
        {
          "output_type": "execute_result",
          "data": {
            "text/plain": [
              "Index(['MarkDown4', 'Type_A'], dtype='object')"
            ]
          },
          "metadata": {
            "tags": []
          },
          "execution_count": 56
        }
      ]
    },
    {
      "cell_type": "code",
      "metadata": {
        "id": "fpWvVc34BCBt"
      },
      "source": [
        "train.drop(columns=highcorr_columns, axis=1, inplace=True)\n",
        "test.drop(columns=highcorr_columns, axis=1, inplace=True)"
      ],
      "execution_count": null,
      "outputs": []
    },
    {
      "cell_type": "markdown",
      "metadata": {
        "id": "iq9ZODV1BHxF"
      },
      "source": [
        "Takeaway:\n",
        "MarkDown4 and Type_A are highly correlated to other existing features and have been dropped."
      ]
    },
    {
      "cell_type": "markdown",
      "metadata": {
        "id": "NAba4m4rBJS9"
      },
      "source": [
        "Split Training dataset into Train & Validation"
      ]
    },
    {
      "cell_type": "code",
      "metadata": {
        "id": "_dZgiJ2EBFGf",
        "colab": {
          "base_uri": "https://localhost:8080/",
          "height": 51
        },
        "outputId": "3960cf87-644f-478a-fbfd-de6db2c17143"
      },
      "source": [
        "train_X, val_X, train_y, val_y = train_test_split(train.drop('Weekly_Sales', axis = 1), \n",
        "                                                  train['Weekly_Sales'], \n",
        "                                                  test_size = 0.2, \n",
        "                                                  random_state = 0)\n",
        "\n",
        "# Show the results of the split\n",
        "print(\"Training set has {} samples.\".format(train_X.shape[0]))\n",
        "print(\"Validation set has {} samples.\".format(val_X.shape[0]))"
      ],
      "execution_count": null,
      "outputs": [
        {
          "output_type": "stream",
          "text": [
            "Training set has 337256 samples.\n",
            "Validation set has 84314 samples.\n"
          ],
          "name": "stdout"
        }
      ]
    },
    {
      "cell_type": "code",
      "metadata": {
        "id": "BS5lOKF5BSuS",
        "colab": {
          "base_uri": "https://localhost:8080/",
          "height": 34
        },
        "outputId": "df9e2d3d-12bd-49da-ff29-24f7a8780d8f"
      },
      "source": [
        "# Validate shape\n",
        "train_X.shape, train_y.shape, val_X.shape, val_y.shape, test.shape"
      ],
      "execution_count": null,
      "outputs": [
        {
          "output_type": "execute_result",
          "data": {
            "text/plain": [
              "((337256, 16), (337256,), (84314, 16), (84314,), (115064, 16))"
            ]
          },
          "metadata": {
            "tags": []
          },
          "execution_count": 59
        }
      ]
    },
    {
      "cell_type": "code",
      "metadata": {
        "id": "MKSLgD8gFkOb",
        "colab": {
          "base_uri": "https://localhost:8080/",
          "height": 224
        },
        "outputId": "41bf5d07-18cf-4677-8f71-2f8e406cb5bd"
      },
      "source": [
        "# Initialize a scaler, then apply it to the features\n",
        "scaler = MinMaxScaler() # default=(0, 1)\n",
        "\n",
        "numerical = ['Store', 'Dept', 'IsHoliday', 'Size', 'Temperature', 'Fuel_Price', \n",
        "             'CPI', 'Unemployment', 'Week', 'Type_B', 'Type_C','Year',\n",
        "             'MarkDown1','MarkDown2','MarkDown3','MarkDown5']\n",
        "\n",
        "train_scaled = pd.DataFrame(data = train_X)\n",
        "train_scaled[numerical] = scaler.fit_transform(train_X[numerical])\n",
        "\n",
        "# Show an example of a record with scaling applied\n",
        "display(train_scaled.head(n = 5))"
      ],
      "execution_count": null,
      "outputs": [
        {
          "output_type": "display_data",
          "data": {
            "text/html": [
              "<div>\n",
              "<style scoped>\n",
              "    .dataframe tbody tr th:only-of-type {\n",
              "        vertical-align: middle;\n",
              "    }\n",
              "\n",
              "    .dataframe tbody tr th {\n",
              "        vertical-align: top;\n",
              "    }\n",
              "\n",
              "    .dataframe thead th {\n",
              "        text-align: right;\n",
              "    }\n",
              "</style>\n",
              "<table border=\"1\" class=\"dataframe\">\n",
              "  <thead>\n",
              "    <tr style=\"text-align: right;\">\n",
              "      <th></th>\n",
              "      <th>Store</th>\n",
              "      <th>Dept</th>\n",
              "      <th>IsHoliday</th>\n",
              "      <th>Size</th>\n",
              "      <th>Temperature</th>\n",
              "      <th>Fuel_Price</th>\n",
              "      <th>MarkDown1</th>\n",
              "      <th>MarkDown2</th>\n",
              "      <th>MarkDown3</th>\n",
              "      <th>MarkDown5</th>\n",
              "      <th>CPI</th>\n",
              "      <th>Unemployment</th>\n",
              "      <th>Week</th>\n",
              "      <th>Type_B</th>\n",
              "      <th>Type_C</th>\n",
              "      <th>Year</th>\n",
              "    </tr>\n",
              "  </thead>\n",
              "  <tbody>\n",
              "    <tr>\n",
              "      <th>201850</th>\n",
              "      <td>0.454545</td>\n",
              "      <td>0.316327</td>\n",
              "      <td>0.0</td>\n",
              "      <td>0.569925</td>\n",
              "      <td>0.438160</td>\n",
              "      <td>0.272545</td>\n",
              "      <td>0.737133</td>\n",
              "      <td>0.605471</td>\n",
              "      <td>0.125485</td>\n",
              "      <td>0.610801</td>\n",
              "      <td>0.844356</td>\n",
              "      <td>0.397642</td>\n",
              "      <td>0.039216</td>\n",
              "      <td>1.0</td>\n",
              "      <td>0.0</td>\n",
              "      <td>0.5</td>\n",
              "    </tr>\n",
              "    <tr>\n",
              "      <th>263688</th>\n",
              "      <td>0.590909</td>\n",
              "      <td>0.581633</td>\n",
              "      <td>0.0</td>\n",
              "      <td>0.916437</td>\n",
              "      <td>0.788454</td>\n",
              "      <td>0.194389</td>\n",
              "      <td>0.890191</td>\n",
              "      <td>0.355430</td>\n",
              "      <td>0.472189</td>\n",
              "      <td>0.633988</td>\n",
              "      <td>0.104035</td>\n",
              "      <td>0.393234</td>\n",
              "      <td>0.666667</td>\n",
              "      <td>0.0</td>\n",
              "      <td>0.0</td>\n",
              "      <td>0.0</td>\n",
              "    </tr>\n",
              "    <tr>\n",
              "      <th>147390</th>\n",
              "      <td>0.318182</td>\n",
              "      <td>0.948980</td>\n",
              "      <td>0.0</td>\n",
              "      <td>0.480993</td>\n",
              "      <td>0.604207</td>\n",
              "      <td>0.184369</td>\n",
              "      <td>0.751482</td>\n",
              "      <td>0.262312</td>\n",
              "      <td>0.042536</td>\n",
              "      <td>0.635216</td>\n",
              "      <td>0.066155</td>\n",
              "      <td>0.401380</td>\n",
              "      <td>0.745098</td>\n",
              "      <td>1.0</td>\n",
              "      <td>0.0</td>\n",
              "      <td>0.0</td>\n",
              "    </tr>\n",
              "    <tr>\n",
              "      <th>169866</th>\n",
              "      <td>0.386364</td>\n",
              "      <td>0.183673</td>\n",
              "      <td>0.0</td>\n",
              "      <td>0.464300</td>\n",
              "      <td>0.714090</td>\n",
              "      <td>0.579659</td>\n",
              "      <td>0.791126</td>\n",
              "      <td>0.534033</td>\n",
              "      <td>0.072421</td>\n",
              "      <td>0.617590</td>\n",
              "      <td>0.119591</td>\n",
              "      <td>0.424094</td>\n",
              "      <td>0.470588</td>\n",
              "      <td>1.0</td>\n",
              "      <td>0.0</td>\n",
              "      <td>1.0</td>\n",
              "    </tr>\n",
              "    <tr>\n",
              "      <th>253398</th>\n",
              "      <td>0.568182</td>\n",
              "      <td>0.551020</td>\n",
              "      <td>0.0</td>\n",
              "      <td>0.636752</td>\n",
              "      <td>0.481703</td>\n",
              "      <td>0.759519</td>\n",
              "      <td>0.664863</td>\n",
              "      <td>0.304229</td>\n",
              "      <td>0.261758</td>\n",
              "      <td>0.566154</td>\n",
              "      <td>0.082750</td>\n",
              "      <td>0.377516</td>\n",
              "      <td>0.313725</td>\n",
              "      <td>0.0</td>\n",
              "      <td>0.0</td>\n",
              "      <td>0.5</td>\n",
              "    </tr>\n",
              "  </tbody>\n",
              "</table>\n",
              "</div>"
            ],
            "text/plain": [
              "           Store      Dept  IsHoliday      Size  ...      Week  Type_B  Type_C  Year\n",
              "201850  0.454545  0.316327        0.0  0.569925  ...  0.039216     1.0     0.0   0.5\n",
              "263688  0.590909  0.581633        0.0  0.916437  ...  0.666667     0.0     0.0   0.0\n",
              "147390  0.318182  0.948980        0.0  0.480993  ...  0.745098     1.0     0.0   0.0\n",
              "169866  0.386364  0.183673        0.0  0.464300  ...  0.470588     1.0     0.0   1.0\n",
              "253398  0.568182  0.551020        0.0  0.636752  ...  0.313725     0.0     0.0   0.5\n",
              "\n",
              "[5 rows x 16 columns]"
            ]
          },
          "metadata": {
            "tags": []
          }
        }
      ]
    },
    {
      "cell_type": "code",
      "metadata": {
        "id": "FjFufgBoF1DE",
        "colab": {
          "base_uri": "https://localhost:8080/",
          "height": 224
        },
        "outputId": "042b688c-350f-4e16-84c7-384407e32e83"
      },
      "source": [
        "val_scaled = pd.DataFrame(data = val_X)\n",
        "val_scaled[numerical] = scaler.transform(val_X[numerical])\n",
        "\n",
        "# Show an example of a record with scaling applied\n",
        "display(val_scaled.head(n = 5))\n"
      ],
      "execution_count": null,
      "outputs": [
        {
          "output_type": "display_data",
          "data": {
            "text/html": [
              "<div>\n",
              "<style scoped>\n",
              "    .dataframe tbody tr th:only-of-type {\n",
              "        vertical-align: middle;\n",
              "    }\n",
              "\n",
              "    .dataframe tbody tr th {\n",
              "        vertical-align: top;\n",
              "    }\n",
              "\n",
              "    .dataframe thead th {\n",
              "        text-align: right;\n",
              "    }\n",
              "</style>\n",
              "<table border=\"1\" class=\"dataframe\">\n",
              "  <thead>\n",
              "    <tr style=\"text-align: right;\">\n",
              "      <th></th>\n",
              "      <th>Store</th>\n",
              "      <th>Dept</th>\n",
              "      <th>IsHoliday</th>\n",
              "      <th>Size</th>\n",
              "      <th>Temperature</th>\n",
              "      <th>Fuel_Price</th>\n",
              "      <th>MarkDown1</th>\n",
              "      <th>MarkDown2</th>\n",
              "      <th>MarkDown3</th>\n",
              "      <th>MarkDown5</th>\n",
              "      <th>CPI</th>\n",
              "      <th>Unemployment</th>\n",
              "      <th>Week</th>\n",
              "      <th>Type_B</th>\n",
              "      <th>Type_C</th>\n",
              "      <th>Year</th>\n",
              "    </tr>\n",
              "  </thead>\n",
              "  <tbody>\n",
              "    <tr>\n",
              "      <th>233571</th>\n",
              "      <td>0.522727</td>\n",
              "      <td>0.551020</td>\n",
              "      <td>0.0</td>\n",
              "      <td>0.914461</td>\n",
              "      <td>0.565656</td>\n",
              "      <td>0.861723</td>\n",
              "      <td>0.865404</td>\n",
              "      <td>0.455363</td>\n",
              "      <td>0.443000</td>\n",
              "      <td>0.627616</td>\n",
              "      <td>0.083527</td>\n",
              "      <td>0.415277</td>\n",
              "      <td>0.333333</td>\n",
              "      <td>0.0</td>\n",
              "      <td>0.0</td>\n",
              "      <td>0.5</td>\n",
              "    </tr>\n",
              "    <tr>\n",
              "      <th>88992</th>\n",
              "      <td>0.204545</td>\n",
              "      <td>0.102041</td>\n",
              "      <td>0.0</td>\n",
              "      <td>0.496013</td>\n",
              "      <td>0.692955</td>\n",
              "      <td>0.329659</td>\n",
              "      <td>0.805416</td>\n",
              "      <td>0.360259</td>\n",
              "      <td>0.387339</td>\n",
              "      <td>0.496319</td>\n",
              "      <td>0.003681</td>\n",
              "      <td>0.491087</td>\n",
              "      <td>0.823529</td>\n",
              "      <td>1.0</td>\n",
              "      <td>0.0</td>\n",
              "      <td>0.0</td>\n",
              "    </tr>\n",
              "    <tr>\n",
              "      <th>367842</th>\n",
              "      <td>0.863636</td>\n",
              "      <td>0.591837</td>\n",
              "      <td>0.0</td>\n",
              "      <td>0.807775</td>\n",
              "      <td>0.834638</td>\n",
              "      <td>0.090681</td>\n",
              "      <td>0.781498</td>\n",
              "      <td>0.476005</td>\n",
              "      <td>0.057754</td>\n",
              "      <td>0.802748</td>\n",
              "      <td>0.830627</td>\n",
              "      <td>0.439429</td>\n",
              "      <td>0.470588</td>\n",
              "      <td>0.0</td>\n",
              "      <td>0.0</td>\n",
              "      <td>0.0</td>\n",
              "    </tr>\n",
              "    <tr>\n",
              "      <th>184359</th>\n",
              "      <td>0.409091</td>\n",
              "      <td>0.602041</td>\n",
              "      <td>0.0</td>\n",
              "      <td>0.914461</td>\n",
              "      <td>0.620157</td>\n",
              "      <td>0.714930</td>\n",
              "      <td>0.817083</td>\n",
              "      <td>0.432713</td>\n",
              "      <td>0.224436</td>\n",
              "      <td>0.672905</td>\n",
              "      <td>0.101840</td>\n",
              "      <td>0.376366</td>\n",
              "      <td>0.725490</td>\n",
              "      <td>0.0</td>\n",
              "      <td>0.0</td>\n",
              "      <td>0.5</td>\n",
              "    </tr>\n",
              "    <tr>\n",
              "      <th>26175</th>\n",
              "      <td>0.045455</td>\n",
              "      <td>0.448980</td>\n",
              "      <td>0.0</td>\n",
              "      <td>0.013624</td>\n",
              "      <td>0.480724</td>\n",
              "      <td>0.021042</td>\n",
              "      <td>0.693787</td>\n",
              "      <td>0.696427</td>\n",
              "      <td>0.088778</td>\n",
              "      <td>0.545715</td>\n",
              "      <td>0.875328</td>\n",
              "      <td>0.334388</td>\n",
              "      <td>0.117647</td>\n",
              "      <td>0.0</td>\n",
              "      <td>1.0</td>\n",
              "      <td>0.0</td>\n",
              "    </tr>\n",
              "  </tbody>\n",
              "</table>\n",
              "</div>"
            ],
            "text/plain": [
              "           Store      Dept  IsHoliday      Size  ...      Week  Type_B  Type_C  Year\n",
              "233571  0.522727  0.551020        0.0  0.914461  ...  0.333333     0.0     0.0   0.5\n",
              "88992   0.204545  0.102041        0.0  0.496013  ...  0.823529     1.0     0.0   0.0\n",
              "367842  0.863636  0.591837        0.0  0.807775  ...  0.470588     0.0     0.0   0.0\n",
              "184359  0.409091  0.602041        0.0  0.914461  ...  0.725490     0.0     0.0   0.5\n",
              "26175   0.045455  0.448980        0.0  0.013624  ...  0.117647     0.0     1.0   0.0\n",
              "\n",
              "[5 rows x 16 columns]"
            ]
          },
          "metadata": {
            "tags": []
          }
        }
      ]
    },
    {
      "cell_type": "code",
      "metadata": {
        "id": "9H4hT5JbF3et",
        "colab": {
          "base_uri": "https://localhost:8080/",
          "height": 204
        },
        "outputId": "57a71150-ea18-4fed-fe1f-d62a1717be68"
      },
      "source": [
        "test_scaled = pd.DataFrame(data = test)\n",
        "test_scaled[numerical] = scaler.transform(test[numerical])\n",
        "\n",
        "# Show an example of a record with scaling applied\n",
        "display(test_scaled.head(n = 5))"
      ],
      "execution_count": null,
      "outputs": [
        {
          "output_type": "display_data",
          "data": {
            "text/html": [
              "<div>\n",
              "<style scoped>\n",
              "    .dataframe tbody tr th:only-of-type {\n",
              "        vertical-align: middle;\n",
              "    }\n",
              "\n",
              "    .dataframe tbody tr th {\n",
              "        vertical-align: top;\n",
              "    }\n",
              "\n",
              "    .dataframe thead th {\n",
              "        text-align: right;\n",
              "    }\n",
              "</style>\n",
              "<table border=\"1\" class=\"dataframe\">\n",
              "  <thead>\n",
              "    <tr style=\"text-align: right;\">\n",
              "      <th></th>\n",
              "      <th>Store</th>\n",
              "      <th>Dept</th>\n",
              "      <th>IsHoliday</th>\n",
              "      <th>Size</th>\n",
              "      <th>Temperature</th>\n",
              "      <th>Fuel_Price</th>\n",
              "      <th>MarkDown1</th>\n",
              "      <th>MarkDown2</th>\n",
              "      <th>MarkDown3</th>\n",
              "      <th>MarkDown5</th>\n",
              "      <th>CPI</th>\n",
              "      <th>Unemployment</th>\n",
              "      <th>Week</th>\n",
              "      <th>Type_B</th>\n",
              "      <th>Type_C</th>\n",
              "      <th>Year</th>\n",
              "    </tr>\n",
              "  </thead>\n",
              "  <tbody>\n",
              "    <tr>\n",
              "      <th>0</th>\n",
              "      <td>0.0</td>\n",
              "      <td>0.0</td>\n",
              "      <td>0.0</td>\n",
              "      <td>0.630267</td>\n",
              "      <td>0.561448</td>\n",
              "      <td>0.457916</td>\n",
              "      <td>0.774188</td>\n",
              "      <td>0.739500</td>\n",
              "      <td>0.331330</td>\n",
              "      <td>0.583883</td>\n",
              "      <td>0.962735</td>\n",
              "      <td>0.258194</td>\n",
              "      <td>0.843137</td>\n",
              "      <td>0.0</td>\n",
              "      <td>0.0</td>\n",
              "      <td>1.0</td>\n",
              "    </tr>\n",
              "    <tr>\n",
              "      <th>1</th>\n",
              "      <td>0.0</td>\n",
              "      <td>0.0</td>\n",
              "      <td>0.0</td>\n",
              "      <td>0.630267</td>\n",
              "      <td>0.619374</td>\n",
              "      <td>0.421844</td>\n",
              "      <td>0.820135</td>\n",
              "      <td>0.702875</td>\n",
              "      <td>0.312245</td>\n",
              "      <td>0.643629</td>\n",
              "      <td>0.962918</td>\n",
              "      <td>0.258194</td>\n",
              "      <td>0.862745</td>\n",
              "      <td>0.0</td>\n",
              "      <td>0.0</td>\n",
              "      <td>1.0</td>\n",
              "    </tr>\n",
              "    <tr>\n",
              "      <th>2</th>\n",
              "      <td>0.0</td>\n",
              "      <td>0.0</td>\n",
              "      <td>0.0</td>\n",
              "      <td>0.630267</td>\n",
              "      <td>0.537965</td>\n",
              "      <td>0.390782</td>\n",
              "      <td>0.805763</td>\n",
              "      <td>0.491516</td>\n",
              "      <td>0.390422</td>\n",
              "      <td>0.648929</td>\n",
              "      <td>0.963231</td>\n",
              "      <td>0.258194</td>\n",
              "      <td>0.882353</td>\n",
              "      <td>0.0</td>\n",
              "      <td>0.0</td>\n",
              "      <td>1.0</td>\n",
              "    </tr>\n",
              "    <tr>\n",
              "      <th>3</th>\n",
              "      <td>0.0</td>\n",
              "      <td>0.0</td>\n",
              "      <td>1.0</td>\n",
              "      <td>0.630267</td>\n",
              "      <td>0.570352</td>\n",
              "      <td>0.370240</td>\n",
              "      <td>0.595582</td>\n",
              "      <td>0.142152</td>\n",
              "      <td>0.942015</td>\n",
              "      <td>0.421811</td>\n",
              "      <td>0.963716</td>\n",
              "      <td>0.258194</td>\n",
              "      <td>0.901961</td>\n",
              "      <td>0.0</td>\n",
              "      <td>0.0</td>\n",
              "      <td>1.0</td>\n",
              "    </tr>\n",
              "    <tr>\n",
              "      <th>4</th>\n",
              "      <td>0.0</td>\n",
              "      <td>0.0</td>\n",
              "      <td>0.0</td>\n",
              "      <td>0.630267</td>\n",
              "      <td>0.532290</td>\n",
              "      <td>0.368236</td>\n",
              "      <td>0.685397</td>\n",
              "      <td>0.000000</td>\n",
              "      <td>0.692664</td>\n",
              "      <td>0.652772</td>\n",
              "      <td>0.964200</td>\n",
              "      <td>0.258194</td>\n",
              "      <td>0.921569</td>\n",
              "      <td>0.0</td>\n",
              "      <td>0.0</td>\n",
              "      <td>1.0</td>\n",
              "    </tr>\n",
              "  </tbody>\n",
              "</table>\n",
              "</div>"
            ],
            "text/plain": [
              "   Store  Dept  IsHoliday      Size  ...      Week  Type_B  Type_C  Year\n",
              "0    0.0   0.0        0.0  0.630267  ...  0.843137     0.0     0.0   1.0\n",
              "1    0.0   0.0        0.0  0.630267  ...  0.862745     0.0     0.0   1.0\n",
              "2    0.0   0.0        0.0  0.630267  ...  0.882353     0.0     0.0   1.0\n",
              "3    0.0   0.0        1.0  0.630267  ...  0.901961     0.0     0.0   1.0\n",
              "4    0.0   0.0        0.0  0.630267  ...  0.921569     0.0     0.0   1.0\n",
              "\n",
              "[5 rows x 16 columns]"
            ]
          },
          "metadata": {
            "tags": []
          }
        }
      ]
    },
    {
      "cell_type": "code",
      "metadata": {
        "id": "ZrAWm6e7GEb7"
      },
      "source": [
        "# Free up memory\n",
        "#train = test = features = stores = None"
      ],
      "execution_count": null,
      "outputs": []
    },
    {
      "cell_type": "code",
      "metadata": {
        "id": "jWQK2KUnGF9y"
      },
      "source": [
        "train_X = train_scaled\n",
        "val_X = val_scaled"
      ],
      "execution_count": null,
      "outputs": []
    },
    {
      "cell_type": "code",
      "metadata": {
        "id": "wy3RfNm7GKwA",
        "colab": {
          "base_uri": "https://localhost:8080/",
          "height": 224
        },
        "outputId": "3d15997e-a3ad-45a2-ee5a-d6d23f5f741c"
      },
      "source": [
        "# Free up memory\n",
        "#train_scaled = val_scaled = None\n",
        "train_X.head()\n"
      ],
      "execution_count": null,
      "outputs": [
        {
          "output_type": "execute_result",
          "data": {
            "text/html": [
              "<div>\n",
              "<style scoped>\n",
              "    .dataframe tbody tr th:only-of-type {\n",
              "        vertical-align: middle;\n",
              "    }\n",
              "\n",
              "    .dataframe tbody tr th {\n",
              "        vertical-align: top;\n",
              "    }\n",
              "\n",
              "    .dataframe thead th {\n",
              "        text-align: right;\n",
              "    }\n",
              "</style>\n",
              "<table border=\"1\" class=\"dataframe\">\n",
              "  <thead>\n",
              "    <tr style=\"text-align: right;\">\n",
              "      <th></th>\n",
              "      <th>Store</th>\n",
              "      <th>Dept</th>\n",
              "      <th>IsHoliday</th>\n",
              "      <th>Size</th>\n",
              "      <th>Temperature</th>\n",
              "      <th>Fuel_Price</th>\n",
              "      <th>MarkDown1</th>\n",
              "      <th>MarkDown2</th>\n",
              "      <th>MarkDown3</th>\n",
              "      <th>MarkDown5</th>\n",
              "      <th>CPI</th>\n",
              "      <th>Unemployment</th>\n",
              "      <th>Week</th>\n",
              "      <th>Type_B</th>\n",
              "      <th>Type_C</th>\n",
              "      <th>Year</th>\n",
              "    </tr>\n",
              "  </thead>\n",
              "  <tbody>\n",
              "    <tr>\n",
              "      <th>201850</th>\n",
              "      <td>0.454545</td>\n",
              "      <td>0.316327</td>\n",
              "      <td>0.0</td>\n",
              "      <td>0.569925</td>\n",
              "      <td>0.438160</td>\n",
              "      <td>0.272545</td>\n",
              "      <td>0.737133</td>\n",
              "      <td>0.605471</td>\n",
              "      <td>0.125485</td>\n",
              "      <td>0.610801</td>\n",
              "      <td>0.844356</td>\n",
              "      <td>0.397642</td>\n",
              "      <td>0.039216</td>\n",
              "      <td>1.0</td>\n",
              "      <td>0.0</td>\n",
              "      <td>0.5</td>\n",
              "    </tr>\n",
              "    <tr>\n",
              "      <th>263688</th>\n",
              "      <td>0.590909</td>\n",
              "      <td>0.581633</td>\n",
              "      <td>0.0</td>\n",
              "      <td>0.916437</td>\n",
              "      <td>0.788454</td>\n",
              "      <td>0.194389</td>\n",
              "      <td>0.890191</td>\n",
              "      <td>0.355430</td>\n",
              "      <td>0.472189</td>\n",
              "      <td>0.633988</td>\n",
              "      <td>0.104035</td>\n",
              "      <td>0.393234</td>\n",
              "      <td>0.666667</td>\n",
              "      <td>0.0</td>\n",
              "      <td>0.0</td>\n",
              "      <td>0.0</td>\n",
              "    </tr>\n",
              "    <tr>\n",
              "      <th>147390</th>\n",
              "      <td>0.318182</td>\n",
              "      <td>0.948980</td>\n",
              "      <td>0.0</td>\n",
              "      <td>0.480993</td>\n",
              "      <td>0.604207</td>\n",
              "      <td>0.184369</td>\n",
              "      <td>0.751482</td>\n",
              "      <td>0.262312</td>\n",
              "      <td>0.042536</td>\n",
              "      <td>0.635216</td>\n",
              "      <td>0.066155</td>\n",
              "      <td>0.401380</td>\n",
              "      <td>0.745098</td>\n",
              "      <td>1.0</td>\n",
              "      <td>0.0</td>\n",
              "      <td>0.0</td>\n",
              "    </tr>\n",
              "    <tr>\n",
              "      <th>169866</th>\n",
              "      <td>0.386364</td>\n",
              "      <td>0.183673</td>\n",
              "      <td>0.0</td>\n",
              "      <td>0.464300</td>\n",
              "      <td>0.714090</td>\n",
              "      <td>0.579659</td>\n",
              "      <td>0.791126</td>\n",
              "      <td>0.534033</td>\n",
              "      <td>0.072421</td>\n",
              "      <td>0.617590</td>\n",
              "      <td>0.119591</td>\n",
              "      <td>0.424094</td>\n",
              "      <td>0.470588</td>\n",
              "      <td>1.0</td>\n",
              "      <td>0.0</td>\n",
              "      <td>1.0</td>\n",
              "    </tr>\n",
              "    <tr>\n",
              "      <th>253398</th>\n",
              "      <td>0.568182</td>\n",
              "      <td>0.551020</td>\n",
              "      <td>0.0</td>\n",
              "      <td>0.636752</td>\n",
              "      <td>0.481703</td>\n",
              "      <td>0.759519</td>\n",
              "      <td>0.664863</td>\n",
              "      <td>0.304229</td>\n",
              "      <td>0.261758</td>\n",
              "      <td>0.566154</td>\n",
              "      <td>0.082750</td>\n",
              "      <td>0.377516</td>\n",
              "      <td>0.313725</td>\n",
              "      <td>0.0</td>\n",
              "      <td>0.0</td>\n",
              "      <td>0.5</td>\n",
              "    </tr>\n",
              "  </tbody>\n",
              "</table>\n",
              "</div>"
            ],
            "text/plain": [
              "           Store      Dept  IsHoliday      Size  ...      Week  Type_B  Type_C  Year\n",
              "201850  0.454545  0.316327        0.0  0.569925  ...  0.039216     1.0     0.0   0.5\n",
              "263688  0.590909  0.581633        0.0  0.916437  ...  0.666667     0.0     0.0   0.0\n",
              "147390  0.318182  0.948980        0.0  0.480993  ...  0.745098     1.0     0.0   0.0\n",
              "169866  0.386364  0.183673        0.0  0.464300  ...  0.470588     1.0     0.0   1.0\n",
              "253398  0.568182  0.551020        0.0  0.636752  ...  0.313725     0.0     0.0   0.5\n",
              "\n",
              "[5 rows x 16 columns]"
            ]
          },
          "metadata": {
            "tags": []
          },
          "execution_count": 65
        }
      ]
    },
    {
      "cell_type": "markdown",
      "metadata": {
        "id": "ARHr5a8xB_ge"
      },
      "source": [
        "###Modelling\n",
        "Select and evaluate candidate models"
      ]
    },
    {
      "cell_type": "code",
      "metadata": {
        "id": "pnpM2-Q22JRR"
      },
      "source": [
        "clf = RandomForestRegressor(random_state=1)\n",
        "clf.fit(train_X, train_y)\n",
        "y_pred = clf.predict(val_X)"
      ],
      "execution_count": null,
      "outputs": []
    },
    {
      "cell_type": "code",
      "metadata": {
        "id": "_ZVWdhCb_fIJ"
      },
      "source": [
        ""
      ],
      "execution_count": null,
      "outputs": []
    },
    {
      "cell_type": "code",
      "metadata": {
        "id": "dLEElbg-ANig",
        "colab": {
          "base_uri": "https://localhost:8080/",
          "height": 68
        },
        "outputId": "e5b07162-7ed4-4cda-829b-a014b754e648"
      },
      "source": [
        "from sklearn import metrics\n",
        "\n",
        "print('Mean Absolute Error:', metrics.mean_absolute_error(val_y, y_pred))\n",
        "print('Mean Squared Error:', metrics.mean_squared_error(val_y, y_pred))\n",
        "print('Root Mean Squared Error:', np.sqrt(metrics.mean_squared_error(val_y, y_pred)))"
      ],
      "execution_count": null,
      "outputs": [
        {
          "output_type": "stream",
          "text": [
            "Mean Absolute Error: 0.180536530664242\n",
            "Mean Squared Error: 0.14041269479962012\n",
            "Root Mean Squared Error: 0.3747168194778827\n"
          ],
          "name": "stdout"
        }
      ]
    },
    {
      "cell_type": "code",
      "metadata": {
        "id": "cMChe9I7gKaf",
        "colab": {
          "base_uri": "https://localhost:8080/",
          "height": 34
        },
        "outputId": "59e1464c-de22-469f-cbb6-963d3bb86876"
      },
      "source": [
        "import sklearn\n",
        "import math\n",
        "mse = sklearn.metrics.mean_squared_error(val_y, y_pred)\n",
        "rmse = math.sqrt(mse)\n",
        "print('Accuracy for Random Forest',100*max(0,rmse)) "
      ],
      "execution_count": null,
      "outputs": [
        {
          "output_type": "stream",
          "text": [
            "Accuracy for Random Forest 37.47168194778827\n"
          ],
          "name": "stdout"
        }
      ]
    },
    {
      "cell_type": "code",
      "metadata": {
        "id": "lhcBOpfV3FDK",
        "colab": {
          "base_uri": "https://localhost:8080/",
          "height": 221
        },
        "outputId": "ded284a3-7905-4cca-b115-5d00f9cc8d27"
      },
      "source": [
        "errors = abs(y_pred - val_y)\n",
        "errors.head"
      ],
      "execution_count": null,
      "outputs": [
        {
          "output_type": "execute_result",
          "data": {
            "text/plain": [
              "<bound method NDFrame.head of 233571    0.135139\n",
              "88992     0.032989\n",
              "367842    0.130153\n",
              "184359    0.143612\n",
              "26175     0.685874\n",
              "            ...   \n",
              "392371    0.151566\n",
              "389905    0.013255\n",
              "406834    0.066215\n",
              "118116    0.032749\n",
              "329386    0.054802\n",
              "Name: Weekly_Sales, Length: 84314, dtype: float64>"
            ]
          },
          "metadata": {
            "tags": []
          },
          "execution_count": 69
        }
      ]
    },
    {
      "cell_type": "code",
      "metadata": {
        "id": "GXf43gd186sU",
        "colab": {
          "base_uri": "https://localhost:8080/",
          "height": 34
        },
        "outputId": "6966c37a-ebc0-4fde-9869-69e0e1679916"
      },
      "source": [
        "mape = 100 * (errors / val_y)\n",
        "accuracy = 100 - np.mean(mape)\n",
        "accuracy"
      ],
      "execution_count": null,
      "outputs": [
        {
          "output_type": "execute_result",
          "data": {
            "text/plain": [
              "-inf"
            ]
          },
          "metadata": {
            "tags": []
          },
          "execution_count": 71
        }
      ]
    },
    {
      "cell_type": "code",
      "metadata": {
        "id": "ydtmMFGCCCXM",
        "colab": {
          "base_uri": "https://localhost:8080/",
          "height": 170
        },
        "outputId": "cdc16240-045f-436c-c9b5-3c32b505d07a"
      },
      "source": [
        "%%time\n",
        "# Initialize base models\n",
        "model_A = LinearRegression()\n",
        "model_B = ElasticNet(random_state=1)\n",
        "model_C = RandomForestRegressor(random_state=1)\n",
        "model_D = GradientBoostingRegressor(random_state=1)\n",
        "model_E = xgb.XGBRegressor()\n",
        "model_F = LGBMRegressor(random_state=1)\n",
        "\n",
        "samples = len(train_y) # 100% of training set\n",
        "\n",
        "# Collect results on the learners\n",
        "results = {}\n",
        "for model in [model_A, model_B, model_C, model_D, model_E, model_F]:\n",
        "    model_name = model.__class__.__name__\n",
        "    results[model_name] = {}\n",
        "    for i, samples in enumerate([samples]):\n",
        "        results[model_name][i] = eval_train_predict(model, samples, train_X, train_y, val_X, val_y, 'log', log_constant)"
      ],
      "execution_count": null,
      "outputs": [
        {
          "output_type": "stream",
          "text": [
            "LinearRegression trained on 337256 samples.\n",
            "ElasticNet trained on 337256 samples.\n",
            "RandomForestRegressor trained on 337256 samples.\n",
            "GradientBoostingRegressor trained on 337256 samples.\n",
            "[20:54:15] WARNING: /workspace/src/objective/regression_obj.cu:152: reg:linear is now deprecated in favor of reg:squarederror.\n",
            "XGBRegressor trained on 337256 samples.\n",
            "LGBMRegressor trained on 337256 samples.\n",
            "CPU times: user 8min 52s, sys: 1.44 s, total: 8min 53s\n",
            "Wall time: 8min 54s\n"
          ],
          "name": "stdout"
        }
      ]
    },
    {
      "cell_type": "code",
      "metadata": {
        "id": "KWsBZ4P8bU9B",
        "colab": {
          "base_uri": "https://localhost:8080/",
          "height": 1000
        },
        "outputId": "f2011a76-1885-4ab5-8f59-64f3c2597882"
      },
      "source": [
        "# Evaluate Metrics\n",
        "eval_visualize(results)"
      ],
      "execution_count": null,
      "outputs": [
        {
          "output_type": "display_data",
          "data": {
            "image/png": "[encoded data removed]",
            "text/plain": [
              "<Figure size 1296x576 with 3 Axes>"
            ]
          },
          "metadata": {
            "tags": []
          }
        }
      ]
    },
    {
      "cell_type": "code",
      "metadata": {
        "id": "yYl667LubdIc",
        "colab": {
          "base_uri": "https://localhost:8080/",
          "height": 323
        },
        "outputId": "4ed29a22-9c59-48b4-f760-eb58c2988e30"
      },
      "source": [
        "results"
      ],
      "execution_count": null,
      "outputs": [
        {
          "output_type": "execute_result",
          "data": {
            "text/plain": [
              "{'ElasticNet': {0: {'WMAE': 13874.268546310475,\n",
              "   'time_pred': 0.002388477325439453,\n",
              "   'time_train': 0.05275440216064453}},\n",
              " 'GradientBoostingRegressor': {0: {'WMAE': 7813.675837167315,\n",
              "   'time_pred': 0.1700422763824463,\n",
              "   'time_train': 81.30352306365967}},\n",
              " 'LGBMRegressor': {0: {'WMAE': 4961.648932996019,\n",
              "   'time_pred': 0.6719517707824707,\n",
              "   'time_train': 4.376567363739014}},\n",
              " 'LinearRegression': {0: {'WMAE': 13288.278997851772,\n",
              "   'time_pred': 0.003039121627807617,\n",
              "   'time_train': 0.21391820907592773}},\n",
              " 'RandomForestRegressor': {0: {'WMAE': 1543.594708980336,\n",
              "   'time_pred': 4.807226896286011,\n",
              "   'time_train': 418.22919249534607}},\n",
              " 'XGBRegressor': {0: {'WMAE': 7843.392922174124,\n",
              "   'time_pred': 0.2829618453979492,\n",
              "   'time_train': 23.839146375656128}}}"
            ]
          },
          "metadata": {
            "tags": []
          },
          "execution_count": 77
        }
      ]
    },
    {
      "cell_type": "code",
      "metadata": {
        "id": "ZkN80pw9dJiA",
        "colab": {
          "base_uri": "https://localhost:8080/",
          "height": 136
        },
        "outputId": "a03744a7-6144-47c1-d90b-ddb9be8b2626"
      },
      "source": [
        "rf = RandomForestRegressor(random_state = 1)\n",
        "rf.fit(train_X, train_y)"
      ],
      "execution_count": null,
      "outputs": [
        {
          "output_type": "execute_result",
          "data": {
            "text/plain": [
              "RandomForestRegressor(bootstrap=True, ccp_alpha=0.0, criterion='mse',\n",
              "                      max_depth=None, max_features='auto', max_leaf_nodes=None,\n",
              "                      max_samples=None, min_impurity_decrease=0.0,\n",
              "                      min_impurity_split=None, min_samples_leaf=1,\n",
              "                      min_samples_split=2, min_weight_fraction_leaf=0.0,\n",
              "                      n_estimators=100, n_jobs=None, oob_score=False,\n",
              "                      random_state=1, verbose=0, warm_start=False)"
            ]
          },
          "metadata": {
            "tags": []
          },
          "execution_count": 78
        }
      ]
    },
    {
      "cell_type": "code",
      "metadata": {
        "id": "O-iH17gEeLuk",
        "colab": {
          "base_uri": "https://localhost:8080/",
          "height": 34
        },
        "outputId": "f23aa464-2076-44dc-e471-4064a05ec3f7"
      },
      "source": [
        "predictions = rf.predict(test_scaled)\n",
        "predictions.shape"
      ],
      "execution_count": null,
      "outputs": [
        {
          "output_type": "execute_result",
          "data": {
            "text/plain": [
              "(115064,)"
            ]
          },
          "metadata": {
            "tags": []
          },
          "execution_count": 81
        }
      ]
    },
    {
      "cell_type": "code",
      "metadata": {
        "id": "gLHp-AbAmHrL",
        "colab": {
          "base_uri": "https://localhost:8080/",
          "height": 34
        },
        "outputId": "01d9a645-ac41-4b42-f930-87fdeded8b37"
      },
      "source": [
        "predictions = rf.predict(val_X)\n",
        "predictions.shape"
      ],
      "execution_count": null,
      "outputs": [
        {
          "output_type": "execute_result",
          "data": {
            "text/plain": [
              "(84314,)"
            ]
          },
          "metadata": {
            "tags": []
          },
          "execution_count": 82
        }
      ]
    },
    {
      "cell_type": "code",
      "metadata": {
        "id": "GC8IAuI3k-_B",
        "colab": {
          "base_uri": "https://localhost:8080/",
          "height": 34
        },
        "outputId": "dcc39b2e-e99c-4dbd-9c23-aa07166d9c58"
      },
      "source": [
        "import sklearn\n",
        "import math\n",
        "mse = sklearn.metrics.mean_squared_error(val_y, predictions)\n",
        "rmse = math.sqrt(mse)\n",
        "print('Accuracy for Random Forest',100*max(0,rmse)) "
      ],
      "execution_count": null,
      "outputs": [
        {
          "output_type": "stream",
          "text": [
            "Accuracy for Random Forest 37.47168194778827\n"
          ],
          "name": "stdout"
        }
      ]
    },
    {
      "cell_type": "code",
      "metadata": {
        "id": "C0W5JWGolFsY"
      },
      "source": [
        "!wget https://raw.githubusercontent.com/harshsugandh/Walmart-Store-Sales-Forecasting/master/sampleSubmission.csv\n"
      ],
      "execution_count": null,
      "outputs": []
    },
    {
      "cell_type": "code",
      "metadata": {
        "id": "9GbCyVlhmaQV"
      },
      "source": [
        "predictions = np.exp(predictions) - 1 - log_constant\n",
        "predictions"
      ],
      "execution_count": null,
      "outputs": []
    },
    {
      "cell_type": "code",
      "metadata": {
        "id": "e-VpprZglf96"
      },
      "source": [
        "submission = pd.read_csv(\"sampleSubmission.csv\")"
      ],
      "execution_count": null,
      "outputs": []
    },
    {
      "cell_type": "code",
      "metadata": {
        "id": "9bI2DIUElpwV"
      },
      "source": [
        "submission['Weekly_Sales'] = predictions\n",
        "submission.head()\n"
      ],
      "execution_count": null,
      "outputs": []
    },
    {
      "cell_type": "code",
      "metadata": {
        "id": "Wg_Z-cpulw-A"
      },
      "source": [
        "submission[['Id','Weekly_Sales']].to_csv('submission.csv', index=False)"
      ],
      "execution_count": null,
      "outputs": []
    }
  ]
}